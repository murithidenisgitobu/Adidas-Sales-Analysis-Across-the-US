{
 "cells": [
  {
   "cell_type": "markdown",
   "id": "ca23c58d-d131-40b1-a0a0-c4e7c82a1e40",
   "metadata": {},
   "source": [
    "# TITLE: **`ADIDAS SALES ANALYSIS ACROSS THE US`**\n",
    "## 1. **Business Understanding**"
   ]
  },
  {
   "cell_type": "markdown",
   "id": "21271c6b-63f2-4e09-8946-2c728bc8956a",
   "metadata": {},
   "source": [
    "- This projects aims to make a detailed analysis on US adidas sales\n",
    "\n",
    "- In this project, we aim to find out:\n",
    "\n",
    "a). What is the total sales revenue across all countries?  \n",
    "b). Which region generates the highest profit, and which has the lowest?  \n",
    "c). What is the sales contribution (%) of each market?   \n",
    "d). How do monthly sales and profits vary across the year?  \n",
    "e). Which months show the highest discounts given, and how does this impact profit?   \n",
    "f). What are the top 5 most profitable product subcategories?   \n",
    "g). Which product has the highest sales volume, and in which market is it sold the most?   \n",
    "h). What is the average order value (AOV) for each customer segment?   \n",
    "i). Which customer has the highest total sales, and what is their order frequency?   \n",
    "j). Which city has the highest sales, and what is the associated profit margin?   \n",
    "k). How do sales and profits vary across regions and countries?   \n",
    "l). What is the overall discount percentage, and how does it affect profit margins?   \n",
    "m). How many orders fall into negative profit, and which segments are affected the most?   \n",
    "n). What is the profit-to-sales ratio for each product category and subcategory?   \n",
    "o). Which market or region has the highest average order size (sales per order)?  \n",
    " "
   ]
  },
  {
   "cell_type": "markdown",
   "id": "3fe68272",
   "metadata": {},
   "source": [
    "## 2. **Data Undertanding**"
   ]
  },
  {
   "cell_type": "markdown",
   "id": "954d8270",
   "metadata": {},
   "source": [
    "Here's a **table describing each column**:\n",
    "\n",
    "| Column Name          | Description                                                               |\n",
    "| -------------------- | ------------------------------------------------------------------------- |\n",
    "| **Retailer**         | Name of the company or store selling the product                          |\n",
    "| **Retailer ID**      | Unique identifier for each retailer                                       |\n",
    "| **Invoice Date**     | Date when the sale was recorded or invoiced                               |\n",
    "| **Region**           | Geographic region where the sale took place (e.g., East, West, etc.)      |\n",
    "| **State**            | U.S. state where the sale occurred                                        |\n",
    "| **City**             | City where the sale was made                                              |\n",
    "| **Product**          | Name or type of product sold                                              |\n",
    "| **Price per Unit**   | Price of a single unit of the product                                     |\n",
    "| **Units Sold**       | Number of product units sold in the transaction                           |\n",
    "| **Total Sales**      | Total revenue from the sale (Price per Unit × Units Sold)                 |\n",
    "| **Operating Profit** | Profit made after subtracting operating costs from Total Sales            |\n",
    "| **Operating Margin** | Operating Profit as a percentage of Total Sales                           |\n",
    "| **Sales Method**     | Channel through which the product was sold (e.g., Online, In-store, etc.) |\n"
   ]
  },
  {
   "cell_type": "code",
   "execution_count": 239,
   "id": "38b650ff",
   "metadata": {},
   "outputs": [],
   "source": [
    "# Import libraries\n",
    "import pandas as pd\n",
    "import numpy as np\n",
    "import seaborn as sns\n",
    "import matplotlib.pyplot as plt\n",
    "import plotly.express as px\n",
    "import warnings\n",
    "warnings.filterwarnings('ignore')"
   ]
  },
  {
   "cell_type": "code",
   "execution_count": 240,
   "id": "0c75fe19",
   "metadata": {},
   "outputs": [
    {
     "data": {
      "text/html": [
       "<div>\n",
       "<style scoped>\n",
       "    .dataframe tbody tr th:only-of-type {\n",
       "        vertical-align: middle;\n",
       "    }\n",
       "\n",
       "    .dataframe tbody tr th {\n",
       "        vertical-align: top;\n",
       "    }\n",
       "\n",
       "    .dataframe thead th {\n",
       "        text-align: right;\n",
       "    }\n",
       "</style>\n",
       "<table border=\"1\" class=\"dataframe\">\n",
       "  <thead>\n",
       "    <tr style=\"text-align: right;\">\n",
       "      <th></th>\n",
       "      <th>Unnamed: 0</th>\n",
       "      <th>Retailer</th>\n",
       "      <th>Retailer ID</th>\n",
       "      <th>Invoice Date</th>\n",
       "      <th>Region</th>\n",
       "      <th>State</th>\n",
       "      <th>City</th>\n",
       "      <th>Product</th>\n",
       "      <th>Price per Unit</th>\n",
       "      <th>Units Sold</th>\n",
       "      <th>Total Sales</th>\n",
       "      <th>Operating Profit</th>\n",
       "      <th>Operating Margin</th>\n",
       "      <th>Sales Method</th>\n",
       "    </tr>\n",
       "  </thead>\n",
       "  <tbody>\n",
       "    <tr>\n",
       "      <th>0</th>\n",
       "      <td>NaN</td>\n",
       "      <td>Foot Locker</td>\n",
       "      <td>1185732</td>\n",
       "      <td>2020-01-01</td>\n",
       "      <td>Northeast</td>\n",
       "      <td>New York</td>\n",
       "      <td>New York</td>\n",
       "      <td>Men's Street Footwear</td>\n",
       "      <td>50.0</td>\n",
       "      <td>1200</td>\n",
       "      <td>600000.0</td>\n",
       "      <td>300000.0</td>\n",
       "      <td>0.50</td>\n",
       "      <td>In-store</td>\n",
       "    </tr>\n",
       "    <tr>\n",
       "      <th>1</th>\n",
       "      <td>NaN</td>\n",
       "      <td>Foot Locker</td>\n",
       "      <td>1185732</td>\n",
       "      <td>2020-01-02</td>\n",
       "      <td>Northeast</td>\n",
       "      <td>New York</td>\n",
       "      <td>New York</td>\n",
       "      <td>Men's Athletic Footwear</td>\n",
       "      <td>50.0</td>\n",
       "      <td>1000</td>\n",
       "      <td>500000.0</td>\n",
       "      <td>150000.0</td>\n",
       "      <td>0.30</td>\n",
       "      <td>In-store</td>\n",
       "    </tr>\n",
       "    <tr>\n",
       "      <th>2</th>\n",
       "      <td>NaN</td>\n",
       "      <td>Foot Locker</td>\n",
       "      <td>1185732</td>\n",
       "      <td>2020-01-03</td>\n",
       "      <td>Northeast</td>\n",
       "      <td>New York</td>\n",
       "      <td>New York</td>\n",
       "      <td>Women's Street Footwear</td>\n",
       "      <td>40.0</td>\n",
       "      <td>1000</td>\n",
       "      <td>400000.0</td>\n",
       "      <td>140000.0</td>\n",
       "      <td>0.35</td>\n",
       "      <td>In-store</td>\n",
       "    </tr>\n",
       "    <tr>\n",
       "      <th>3</th>\n",
       "      <td>NaN</td>\n",
       "      <td>Foot Locker</td>\n",
       "      <td>1185732</td>\n",
       "      <td>2020-01-04</td>\n",
       "      <td>Northeast</td>\n",
       "      <td>New York</td>\n",
       "      <td>New York</td>\n",
       "      <td>Women's Athletic Footwear</td>\n",
       "      <td>45.0</td>\n",
       "      <td>850</td>\n",
       "      <td>382500.0</td>\n",
       "      <td>133875.0</td>\n",
       "      <td>0.35</td>\n",
       "      <td>In-store</td>\n",
       "    </tr>\n",
       "    <tr>\n",
       "      <th>4</th>\n",
       "      <td>NaN</td>\n",
       "      <td>Foot Locker</td>\n",
       "      <td>1185732</td>\n",
       "      <td>2020-01-05</td>\n",
       "      <td>Northeast</td>\n",
       "      <td>New York</td>\n",
       "      <td>New York</td>\n",
       "      <td>Men's Apparel</td>\n",
       "      <td>60.0</td>\n",
       "      <td>900</td>\n",
       "      <td>540000.0</td>\n",
       "      <td>162000.0</td>\n",
       "      <td>0.30</td>\n",
       "      <td>In-store</td>\n",
       "    </tr>\n",
       "  </tbody>\n",
       "</table>\n",
       "</div>"
      ],
      "text/plain": [
       "   Unnamed: 0     Retailer  Retailer ID Invoice Date     Region     State  \\\n",
       "0         NaN  Foot Locker      1185732   2020-01-01  Northeast  New York   \n",
       "1         NaN  Foot Locker      1185732   2020-01-02  Northeast  New York   \n",
       "2         NaN  Foot Locker      1185732   2020-01-03  Northeast  New York   \n",
       "3         NaN  Foot Locker      1185732   2020-01-04  Northeast  New York   \n",
       "4         NaN  Foot Locker      1185732   2020-01-05  Northeast  New York   \n",
       "\n",
       "       City                    Product  Price per Unit  Units Sold  \\\n",
       "0  New York      Men's Street Footwear            50.0        1200   \n",
       "1  New York    Men's Athletic Footwear            50.0        1000   \n",
       "2  New York    Women's Street Footwear            40.0        1000   \n",
       "3  New York  Women's Athletic Footwear            45.0         850   \n",
       "4  New York              Men's Apparel            60.0         900   \n",
       "\n",
       "   Total Sales  Operating Profit  Operating Margin Sales Method  \n",
       "0     600000.0          300000.0              0.50     In-store  \n",
       "1     500000.0          150000.0              0.30     In-store  \n",
       "2     400000.0          140000.0              0.35     In-store  \n",
       "3     382500.0          133875.0              0.35     In-store  \n",
       "4     540000.0          162000.0              0.30     In-store  "
      ]
     },
     "execution_count": 240,
     "metadata": {},
     "output_type": "execute_result"
    }
   ],
   "source": [
    "# Load dataset\n",
    "data = pd.read_excel(\"../Data Sets/Adidas US Sales Datasets.xlsx\")\n",
    "\n",
    "\n",
    "data.head()"
   ]
  },
  {
   "cell_type": "code",
   "execution_count": 241,
   "id": "cf2414ac",
   "metadata": {},
   "outputs": [
    {
     "name": "stdout",
     "output_type": "stream",
     "text": [
      "The data has 14 columns and 9648 rows\n"
     ]
    }
   ],
   "source": [
    "# Check shape of data\n",
    "print(f\"The data has {data.shape[1]} columns and {data.shape[0]} rows\")"
   ]
  },
  {
   "cell_type": "code",
   "execution_count": 242,
   "id": "63b6fe94",
   "metadata": {},
   "outputs": [
    {
     "name": "stdout",
     "output_type": "stream",
     "text": [
      "<class 'pandas.core.frame.DataFrame'>\n",
      "RangeIndex: 9648 entries, 0 to 9647\n",
      "Data columns (total 14 columns):\n",
      " #   Column            Non-Null Count  Dtype         \n",
      "---  ------            --------------  -----         \n",
      " 0   Unnamed: 0        0 non-null      float64       \n",
      " 1   Retailer          9648 non-null   object        \n",
      " 2   Retailer ID       9648 non-null   int64         \n",
      " 3   Invoice Date      9648 non-null   datetime64[ns]\n",
      " 4   Region            9648 non-null   object        \n",
      " 5   State             9648 non-null   object        \n",
      " 6   City              9648 non-null   object        \n",
      " 7   Product           9648 non-null   object        \n",
      " 8   Price per Unit    9648 non-null   float64       \n",
      " 9   Units Sold        9648 non-null   int64         \n",
      " 10  Total Sales       9648 non-null   float64       \n",
      " 11  Operating Profit  9648 non-null   float64       \n",
      " 12  Operating Margin  9648 non-null   float64       \n",
      " 13  Sales Method      9648 non-null   object        \n",
      "dtypes: datetime64[ns](1), float64(5), int64(2), object(6)\n",
      "memory usage: 1.0+ MB\n"
     ]
    }
   ],
   "source": [
    "# Check for data information\n",
    "data.info()"
   ]
  },
  {
   "cell_type": "code",
   "execution_count": 243,
   "id": "cf6dcd24",
   "metadata": {},
   "outputs": [
    {
     "data": {
      "text/plain": [
       "RangeIndex(start=0, stop=9648, step=1)"
      ]
     },
     "execution_count": 243,
     "metadata": {},
     "output_type": "execute_result"
    }
   ],
   "source": [
    "# Check for data index\n",
    "data.index"
   ]
  },
  {
   "cell_type": "code",
   "execution_count": 244,
   "id": "0e4f7072",
   "metadata": {},
   "outputs": [
    {
     "data": {
      "text/html": [
       "<div>\n",
       "<style scoped>\n",
       "    .dataframe tbody tr th:only-of-type {\n",
       "        vertical-align: middle;\n",
       "    }\n",
       "\n",
       "    .dataframe tbody tr th {\n",
       "        vertical-align: top;\n",
       "    }\n",
       "\n",
       "    .dataframe thead th {\n",
       "        text-align: right;\n",
       "    }\n",
       "</style>\n",
       "<table border=\"1\" class=\"dataframe\">\n",
       "  <thead>\n",
       "    <tr style=\"text-align: right;\">\n",
       "      <th></th>\n",
       "      <th>Retailer</th>\n",
       "      <th>Retailer ID</th>\n",
       "      <th>Invoice Date</th>\n",
       "      <th>Region</th>\n",
       "      <th>State</th>\n",
       "      <th>City</th>\n",
       "      <th>Product</th>\n",
       "      <th>Price per Unit</th>\n",
       "      <th>Units Sold</th>\n",
       "      <th>Total Sales</th>\n",
       "      <th>Operating Profit</th>\n",
       "      <th>Operating Margin</th>\n",
       "      <th>Sales Method</th>\n",
       "    </tr>\n",
       "  </thead>\n",
       "  <tbody>\n",
       "    <tr>\n",
       "      <th>0</th>\n",
       "      <td>Foot Locker</td>\n",
       "      <td>1185732</td>\n",
       "      <td>2020-01-01</td>\n",
       "      <td>Northeast</td>\n",
       "      <td>New York</td>\n",
       "      <td>New York</td>\n",
       "      <td>Men's Street Footwear</td>\n",
       "      <td>50.0</td>\n",
       "      <td>1200</td>\n",
       "      <td>600000.0</td>\n",
       "      <td>300000.0</td>\n",
       "      <td>0.50</td>\n",
       "      <td>In-store</td>\n",
       "    </tr>\n",
       "    <tr>\n",
       "      <th>1</th>\n",
       "      <td>Foot Locker</td>\n",
       "      <td>1185732</td>\n",
       "      <td>2020-01-02</td>\n",
       "      <td>Northeast</td>\n",
       "      <td>New York</td>\n",
       "      <td>New York</td>\n",
       "      <td>Men's Athletic Footwear</td>\n",
       "      <td>50.0</td>\n",
       "      <td>1000</td>\n",
       "      <td>500000.0</td>\n",
       "      <td>150000.0</td>\n",
       "      <td>0.30</td>\n",
       "      <td>In-store</td>\n",
       "    </tr>\n",
       "    <tr>\n",
       "      <th>2</th>\n",
       "      <td>Foot Locker</td>\n",
       "      <td>1185732</td>\n",
       "      <td>2020-01-03</td>\n",
       "      <td>Northeast</td>\n",
       "      <td>New York</td>\n",
       "      <td>New York</td>\n",
       "      <td>Women's Street Footwear</td>\n",
       "      <td>40.0</td>\n",
       "      <td>1000</td>\n",
       "      <td>400000.0</td>\n",
       "      <td>140000.0</td>\n",
       "      <td>0.35</td>\n",
       "      <td>In-store</td>\n",
       "    </tr>\n",
       "    <tr>\n",
       "      <th>3</th>\n",
       "      <td>Foot Locker</td>\n",
       "      <td>1185732</td>\n",
       "      <td>2020-01-04</td>\n",
       "      <td>Northeast</td>\n",
       "      <td>New York</td>\n",
       "      <td>New York</td>\n",
       "      <td>Women's Athletic Footwear</td>\n",
       "      <td>45.0</td>\n",
       "      <td>850</td>\n",
       "      <td>382500.0</td>\n",
       "      <td>133875.0</td>\n",
       "      <td>0.35</td>\n",
       "      <td>In-store</td>\n",
       "    </tr>\n",
       "    <tr>\n",
       "      <th>4</th>\n",
       "      <td>Foot Locker</td>\n",
       "      <td>1185732</td>\n",
       "      <td>2020-01-05</td>\n",
       "      <td>Northeast</td>\n",
       "      <td>New York</td>\n",
       "      <td>New York</td>\n",
       "      <td>Men's Apparel</td>\n",
       "      <td>60.0</td>\n",
       "      <td>900</td>\n",
       "      <td>540000.0</td>\n",
       "      <td>162000.0</td>\n",
       "      <td>0.30</td>\n",
       "      <td>In-store</td>\n",
       "    </tr>\n",
       "  </tbody>\n",
       "</table>\n",
       "</div>"
      ],
      "text/plain": [
       "      Retailer  Retailer ID Invoice Date     Region     State      City  \\\n",
       "0  Foot Locker      1185732   2020-01-01  Northeast  New York  New York   \n",
       "1  Foot Locker      1185732   2020-01-02  Northeast  New York  New York   \n",
       "2  Foot Locker      1185732   2020-01-03  Northeast  New York  New York   \n",
       "3  Foot Locker      1185732   2020-01-04  Northeast  New York  New York   \n",
       "4  Foot Locker      1185732   2020-01-05  Northeast  New York  New York   \n",
       "\n",
       "                     Product  Price per Unit  Units Sold  Total Sales  \\\n",
       "0      Men's Street Footwear            50.0        1200     600000.0   \n",
       "1    Men's Athletic Footwear            50.0        1000     500000.0   \n",
       "2    Women's Street Footwear            40.0        1000     400000.0   \n",
       "3  Women's Athletic Footwear            45.0         850     382500.0   \n",
       "4              Men's Apparel            60.0         900     540000.0   \n",
       "\n",
       "   Operating Profit  Operating Margin Sales Method  \n",
       "0          300000.0              0.50     In-store  \n",
       "1          150000.0              0.30     In-store  \n",
       "2          140000.0              0.35     In-store  \n",
       "3          133875.0              0.35     In-store  \n",
       "4          162000.0              0.30     In-store  "
      ]
     },
     "execution_count": 244,
     "metadata": {},
     "output_type": "execute_result"
    }
   ],
   "source": [
    "# Drop the first irrelevant column - \"Unnamed: 0\"\n",
    "data.drop(\"Unnamed: 0\", axis=1, inplace=True)\n",
    "\n",
    "data.head()"
   ]
  },
  {
   "cell_type": "code",
   "execution_count": 245,
   "id": "4537a334",
   "metadata": {},
   "outputs": [
    {
     "name": "stdout",
     "output_type": "stream",
     "text": [
      "The data has 13 columns and 9648 rows\n"
     ]
    }
   ],
   "source": [
    "# Check new shape of the data\n",
    "print(f\"The data has {data.shape[1]} columns and {data.shape[0]} rows\")"
   ]
  },
  {
   "cell_type": "code",
   "execution_count": 246,
   "id": "2fd11e2a",
   "metadata": {},
   "outputs": [
    {
     "name": "stdout",
     "output_type": "stream",
     "text": [
      "There are 0 null values in Retailer\n",
      "There are 0 null values in Retailer ID\n",
      "There are 0 null values in Invoice Date\n",
      "There are 0 null values in Region\n",
      "There are 0 null values in State\n",
      "There are 0 null values in City\n",
      "There are 0 null values in Product\n",
      "There are 0 null values in Price per Unit\n",
      "There are 0 null values in Units Sold\n",
      "There are 0 null values in Total Sales\n",
      "There are 0 null values in Operating Profit\n",
      "There are 0 null values in Operating Margin\n",
      "There are 0 null values in Sales Method\n"
     ]
    }
   ],
   "source": [
    "# Check for null values in the dataset\n",
    "for col in data.columns:\n",
    "    print(f'There are {data[col].isna().sum()} null values in {col}')"
   ]
  },
  {
   "cell_type": "code",
   "execution_count": 247,
   "id": "46729553",
   "metadata": {},
   "outputs": [
    {
     "name": "stdout",
     "output_type": "stream",
     "text": [
      "There are 0 duplicates in the dataset\n"
     ]
    }
   ],
   "source": [
    "# Check for duplicates in the dataset\n",
    "print(f\"There are {data.duplicated().sum()} duplicates in the dataset\")"
   ]
  },
  {
   "cell_type": "code",
   "execution_count": 248,
   "id": "77423452",
   "metadata": {},
   "outputs": [
    {
     "data": {
      "text/html": [
       "<style type=\"text/css\">\n",
       "</style>\n",
       "<table id=\"T_34aed\">\n",
       "  <thead>\n",
       "    <tr>\n",
       "      <th class=\"blank level0\" >&nbsp;</th>\n",
       "      <th id=\"T_34aed_level0_col0\" class=\"col_heading level0 col0\" >count</th>\n",
       "      <th id=\"T_34aed_level0_col1\" class=\"col_heading level0 col1\" >mean</th>\n",
       "      <th id=\"T_34aed_level0_col2\" class=\"col_heading level0 col2\" >min</th>\n",
       "      <th id=\"T_34aed_level0_col3\" class=\"col_heading level0 col3\" >25%</th>\n",
       "      <th id=\"T_34aed_level0_col4\" class=\"col_heading level0 col4\" >50%</th>\n",
       "      <th id=\"T_34aed_level0_col5\" class=\"col_heading level0 col5\" >75%</th>\n",
       "      <th id=\"T_34aed_level0_col6\" class=\"col_heading level0 col6\" >max</th>\n",
       "      <th id=\"T_34aed_level0_col7\" class=\"col_heading level0 col7\" >std</th>\n",
       "    </tr>\n",
       "  </thead>\n",
       "  <tbody>\n",
       "    <tr>\n",
       "      <th id=\"T_34aed_level0_row0\" class=\"row_heading level0 row0\" >Retailer ID</th>\n",
       "      <td id=\"T_34aed_row0_col0\" class=\"data row0 col0\" >9,648.00</td>\n",
       "      <td id=\"T_34aed_row0_col1\" class=\"data row0 col1\" >1,173,849.72</td>\n",
       "      <td id=\"T_34aed_row0_col2\" class=\"data row0 col2\" >1,128,299.00</td>\n",
       "      <td id=\"T_34aed_row0_col3\" class=\"data row0 col3\" >1,185,732.00</td>\n",
       "      <td id=\"T_34aed_row0_col4\" class=\"data row0 col4\" >1,185,732.00</td>\n",
       "      <td id=\"T_34aed_row0_col5\" class=\"data row0 col5\" >1,185,732.00</td>\n",
       "      <td id=\"T_34aed_row0_col6\" class=\"data row0 col6\" >1,197,831.00</td>\n",
       "      <td id=\"T_34aed_row0_col7\" class=\"data row0 col7\" >26,360.38</td>\n",
       "    </tr>\n",
       "    <tr>\n",
       "      <th id=\"T_34aed_level0_row1\" class=\"row_heading level0 row1\" >Invoice Date</th>\n",
       "      <td id=\"T_34aed_row1_col0\" class=\"data row1 col0\" >9,648.00</td>\n",
       "      <td id=\"T_34aed_row1_col1\" class=\"data row1 col1\" >,.2f</td>\n",
       "      <td id=\"T_34aed_row1_col2\" class=\"data row1 col2\" >,.2f</td>\n",
       "      <td id=\"T_34aed_row1_col3\" class=\"data row1 col3\" >,.2f</td>\n",
       "      <td id=\"T_34aed_row1_col4\" class=\"data row1 col4\" >,.2f</td>\n",
       "      <td id=\"T_34aed_row1_col5\" class=\"data row1 col5\" >,.2f</td>\n",
       "      <td id=\"T_34aed_row1_col6\" class=\"data row1 col6\" >,.2f</td>\n",
       "      <td id=\"T_34aed_row1_col7\" class=\"data row1 col7\" >nan</td>\n",
       "    </tr>\n",
       "    <tr>\n",
       "      <th id=\"T_34aed_level0_row2\" class=\"row_heading level0 row2\" >Price per Unit</th>\n",
       "      <td id=\"T_34aed_row2_col0\" class=\"data row2 col0\" >9,648.00</td>\n",
       "      <td id=\"T_34aed_row2_col1\" class=\"data row2 col1\" >45.22</td>\n",
       "      <td id=\"T_34aed_row2_col2\" class=\"data row2 col2\" >7.00</td>\n",
       "      <td id=\"T_34aed_row2_col3\" class=\"data row2 col3\" >35.00</td>\n",
       "      <td id=\"T_34aed_row2_col4\" class=\"data row2 col4\" >45.00</td>\n",
       "      <td id=\"T_34aed_row2_col5\" class=\"data row2 col5\" >55.00</td>\n",
       "      <td id=\"T_34aed_row2_col6\" class=\"data row2 col6\" >110.00</td>\n",
       "      <td id=\"T_34aed_row2_col7\" class=\"data row2 col7\" >14.71</td>\n",
       "    </tr>\n",
       "    <tr>\n",
       "      <th id=\"T_34aed_level0_row3\" class=\"row_heading level0 row3\" >Units Sold</th>\n",
       "      <td id=\"T_34aed_row3_col0\" class=\"data row3 col0\" >9,648.00</td>\n",
       "      <td id=\"T_34aed_row3_col1\" class=\"data row3 col1\" >256.93</td>\n",
       "      <td id=\"T_34aed_row3_col2\" class=\"data row3 col2\" >0.00</td>\n",
       "      <td id=\"T_34aed_row3_col3\" class=\"data row3 col3\" >106.00</td>\n",
       "      <td id=\"T_34aed_row3_col4\" class=\"data row3 col4\" >176.00</td>\n",
       "      <td id=\"T_34aed_row3_col5\" class=\"data row3 col5\" >350.00</td>\n",
       "      <td id=\"T_34aed_row3_col6\" class=\"data row3 col6\" >1,275.00</td>\n",
       "      <td id=\"T_34aed_row3_col7\" class=\"data row3 col7\" >214.25</td>\n",
       "    </tr>\n",
       "    <tr>\n",
       "      <th id=\"T_34aed_level0_row4\" class=\"row_heading level0 row4\" >Total Sales</th>\n",
       "      <td id=\"T_34aed_row4_col0\" class=\"data row4 col0\" >9,648.00</td>\n",
       "      <td id=\"T_34aed_row4_col1\" class=\"data row4 col1\" >93,273.44</td>\n",
       "      <td id=\"T_34aed_row4_col2\" class=\"data row4 col2\" >0.00</td>\n",
       "      <td id=\"T_34aed_row4_col3\" class=\"data row4 col3\" >4,254.50</td>\n",
       "      <td id=\"T_34aed_row4_col4\" class=\"data row4 col4\" >9,576.00</td>\n",
       "      <td id=\"T_34aed_row4_col5\" class=\"data row4 col5\" >150,000.00</td>\n",
       "      <td id=\"T_34aed_row4_col6\" class=\"data row4 col6\" >825,000.00</td>\n",
       "      <td id=\"T_34aed_row4_col7\" class=\"data row4 col7\" >141,916.02</td>\n",
       "    </tr>\n",
       "    <tr>\n",
       "      <th id=\"T_34aed_level0_row5\" class=\"row_heading level0 row5\" >Operating Profit</th>\n",
       "      <td id=\"T_34aed_row5_col0\" class=\"data row5 col0\" >9,648.00</td>\n",
       "      <td id=\"T_34aed_row5_col1\" class=\"data row5 col1\" >34,425.24</td>\n",
       "      <td id=\"T_34aed_row5_col2\" class=\"data row5 col2\" >0.00</td>\n",
       "      <td id=\"T_34aed_row5_col3\" class=\"data row5 col3\" >1,921.75</td>\n",
       "      <td id=\"T_34aed_row5_col4\" class=\"data row5 col4\" >4,371.42</td>\n",
       "      <td id=\"T_34aed_row5_col5\" class=\"data row5 col5\" >52,062.50</td>\n",
       "      <td id=\"T_34aed_row5_col6\" class=\"data row5 col6\" >390,000.00</td>\n",
       "      <td id=\"T_34aed_row5_col7\" class=\"data row5 col7\" >54,193.11</td>\n",
       "    </tr>\n",
       "    <tr>\n",
       "      <th id=\"T_34aed_level0_row6\" class=\"row_heading level0 row6\" >Operating Margin</th>\n",
       "      <td id=\"T_34aed_row6_col0\" class=\"data row6 col0\" >9,648.00</td>\n",
       "      <td id=\"T_34aed_row6_col1\" class=\"data row6 col1\" >0.42</td>\n",
       "      <td id=\"T_34aed_row6_col2\" class=\"data row6 col2\" >0.10</td>\n",
       "      <td id=\"T_34aed_row6_col3\" class=\"data row6 col3\" >0.35</td>\n",
       "      <td id=\"T_34aed_row6_col4\" class=\"data row6 col4\" >0.41</td>\n",
       "      <td id=\"T_34aed_row6_col5\" class=\"data row6 col5\" >0.49</td>\n",
       "      <td id=\"T_34aed_row6_col6\" class=\"data row6 col6\" >0.80</td>\n",
       "      <td id=\"T_34aed_row6_col7\" class=\"data row6 col7\" >0.10</td>\n",
       "    </tr>\n",
       "  </tbody>\n",
       "</table>\n"
      ],
      "text/plain": [
       "<pandas.io.formats.style.Styler at 0x1332147d0>"
      ]
     },
     "execution_count": 248,
     "metadata": {},
     "output_type": "execute_result"
    }
   ],
   "source": [
    "# Describe the numerical columns in the dataset\n",
    "data.describe().T.style.format(\"{:,.2f}\")"
   ]
  },
  {
   "cell_type": "code",
   "execution_count": 249,
   "id": "807441a5",
   "metadata": {},
   "outputs": [
    {
     "data": {
      "text/html": [
       "<style type=\"text/css\">\n",
       "</style>\n",
       "<table id=\"T_eafb2\">\n",
       "  <thead>\n",
       "    <tr>\n",
       "      <th class=\"blank level0\" >&nbsp;</th>\n",
       "      <th id=\"T_eafb2_level0_col0\" class=\"col_heading level0 col0\" >count</th>\n",
       "      <th id=\"T_eafb2_level0_col1\" class=\"col_heading level0 col1\" >unique</th>\n",
       "      <th id=\"T_eafb2_level0_col2\" class=\"col_heading level0 col2\" >top</th>\n",
       "      <th id=\"T_eafb2_level0_col3\" class=\"col_heading level0 col3\" >freq</th>\n",
       "    </tr>\n",
       "  </thead>\n",
       "  <tbody>\n",
       "    <tr>\n",
       "      <th id=\"T_eafb2_level0_row0\" class=\"row_heading level0 row0\" >Retailer</th>\n",
       "      <td id=\"T_eafb2_row0_col0\" class=\"data row0 col0\" >9,648</td>\n",
       "      <td id=\"T_eafb2_row0_col1\" class=\"data row0 col1\" >6</td>\n",
       "      <td id=\"T_eafb2_row0_col2\" class=\"data row0 col2\" >Foot Locker</td>\n",
       "      <td id=\"T_eafb2_row0_col3\" class=\"data row0 col3\" >2,637</td>\n",
       "    </tr>\n",
       "    <tr>\n",
       "      <th id=\"T_eafb2_level0_row1\" class=\"row_heading level0 row1\" >Region</th>\n",
       "      <td id=\"T_eafb2_row1_col0\" class=\"data row1 col0\" >9,648</td>\n",
       "      <td id=\"T_eafb2_row1_col1\" class=\"data row1 col1\" >5</td>\n",
       "      <td id=\"T_eafb2_row1_col2\" class=\"data row1 col2\" >West</td>\n",
       "      <td id=\"T_eafb2_row1_col3\" class=\"data row1 col3\" >2,448</td>\n",
       "    </tr>\n",
       "    <tr>\n",
       "      <th id=\"T_eafb2_level0_row2\" class=\"row_heading level0 row2\" >State</th>\n",
       "      <td id=\"T_eafb2_row2_col0\" class=\"data row2 col0\" >9,648</td>\n",
       "      <td id=\"T_eafb2_row2_col1\" class=\"data row2 col1\" >50</td>\n",
       "      <td id=\"T_eafb2_row2_col2\" class=\"data row2 col2\" >Texas</td>\n",
       "      <td id=\"T_eafb2_row2_col3\" class=\"data row2 col3\" >432</td>\n",
       "    </tr>\n",
       "    <tr>\n",
       "      <th id=\"T_eafb2_level0_row3\" class=\"row_heading level0 row3\" >City</th>\n",
       "      <td id=\"T_eafb2_row3_col0\" class=\"data row3 col0\" >9,648</td>\n",
       "      <td id=\"T_eafb2_row3_col1\" class=\"data row3 col1\" >52</td>\n",
       "      <td id=\"T_eafb2_row3_col2\" class=\"data row3 col2\" >Portland</td>\n",
       "      <td id=\"T_eafb2_row3_col3\" class=\"data row3 col3\" >360</td>\n",
       "    </tr>\n",
       "    <tr>\n",
       "      <th id=\"T_eafb2_level0_row4\" class=\"row_heading level0 row4\" >Product</th>\n",
       "      <td id=\"T_eafb2_row4_col0\" class=\"data row4 col0\" >9,648</td>\n",
       "      <td id=\"T_eafb2_row4_col1\" class=\"data row4 col1\" >6</td>\n",
       "      <td id=\"T_eafb2_row4_col2\" class=\"data row4 col2\" >Men's Street Footwear</td>\n",
       "      <td id=\"T_eafb2_row4_col3\" class=\"data row4 col3\" >1,610</td>\n",
       "    </tr>\n",
       "    <tr>\n",
       "      <th id=\"T_eafb2_level0_row5\" class=\"row_heading level0 row5\" >Sales Method</th>\n",
       "      <td id=\"T_eafb2_row5_col0\" class=\"data row5 col0\" >9,648</td>\n",
       "      <td id=\"T_eafb2_row5_col1\" class=\"data row5 col1\" >3</td>\n",
       "      <td id=\"T_eafb2_row5_col2\" class=\"data row5 col2\" >Online</td>\n",
       "      <td id=\"T_eafb2_row5_col3\" class=\"data row5 col3\" >4,889</td>\n",
       "    </tr>\n",
       "  </tbody>\n",
       "</table>\n"
      ],
      "text/plain": [
       "<pandas.io.formats.style.Styler at 0x133214550>"
      ]
     },
     "execution_count": 249,
     "metadata": {},
     "output_type": "execute_result"
    }
   ],
   "source": [
    "# Describe the objaect columns in the dataset\n",
    "data.describe(include=\"O\").T.style.format({\n",
    "    'count': '{:,}',\n",
    "    'freq': '{:,}'\n",
    "})"
   ]
  },
  {
   "cell_type": "markdown",
   "id": "81facb9f",
   "metadata": {},
   "source": [
    "## **Exploratory Data Analysis**"
   ]
  },
  {
   "cell_type": "markdown",
   "id": "8c07415a",
   "metadata": {},
   "source": [
    "### **Check for Outliers**"
   ]
  },
  {
   "cell_type": "code",
   "execution_count": 250,
   "id": "6aedf859",
   "metadata": {},
   "outputs": [
    {
     "data": {
      "text/plain": [
       "Index(['Retailer ID', 'Invoice Date', 'Price per Unit', 'Units Sold',\n",
       "       'Total Sales', 'Operating Profit', 'Operating Margin'],\n",
       "      dtype='object')"
      ]
     },
     "execution_count": 250,
     "metadata": {},
     "output_type": "execute_result"
    }
   ],
   "source": [
    "# Check for outliers in the numerical columns\n",
    "num_cols = data.select_dtypes(exclude=\"O\")\n",
    "\n",
    "num_cols.columns"
   ]
  },
  {
   "cell_type": "code",
   "execution_count": 251,
   "id": "c121bf3d",
   "metadata": {},
   "outputs": [
    {
     "data": {
      "image/png": "[encoded data removed]",
      "text/plain": [
       "<Figure size 1200x600 with 6 Axes>"
      ]
     },
     "metadata": {},
     "output_type": "display_data"
    }
   ],
   "source": [
    "# Get only relevant columns from the numerical columns\n",
    "rel_cols = ['Price per Unit', 'Units Sold', 'Total Sales', 'Operating Profit', 'Operating Margin']\n",
    "\n",
    "# Create 2x2 subplots + 1 extra row\n",
    "fig, axs = plt.subplots(3, 2, figsize=(12, 6)) \n",
    "\n",
    "axs = axs.flatten()  # Flatten to make it easier to loop through\n",
    "\n",
    "# Plot each boxplot\n",
    "for i, col in enumerate(rel_cols):\n",
    "    sns.boxplot(x=data[col], ax=axs[i], color='lightblue')\n",
    "    axs[i].set_title(f'Boxplot of {col}')\n",
    "    axs[i].set_xlabel('')  \n",
    "\n",
    "# Hide the unused sixth subplot\n",
    "if len(rel_cols) < len(axs):\n",
    "    axs[-1].axis('off')\n",
    "\n",
    "plt.tight_layout()\n",
    "plt.show()"
   ]
  },
  {
   "cell_type": "markdown",
   "id": "86ae5e1b",
   "metadata": {},
   "source": [
    "## **Notes**\n",
    "\n",
    "- All the columns have outliers. This means there could be underlyig causes such as changes in behavior or business processes which call for more examination to clearly arrive at a logical conlusion\n",
    "\n",
    "Causes of action:\n",
    "- Investigate first: Understand why they exist\n",
    "\n",
    "- Fix or remove: If they’re errors\n",
    "\n",
    "- Cap or transform: Use log-scaling, winsorization, etc.\n",
    "\n",
    "- Keep: If they reflect real and important variation"
   ]
  },
  {
   "cell_type": "markdown",
   "id": "f6945f36",
   "metadata": {},
   "source": [
    "### **Check for unique values in categorical columns**"
   ]
  },
  {
   "cell_type": "code",
   "execution_count": 252,
   "id": "77843048",
   "metadata": {},
   "outputs": [
    {
     "name": "stdout",
     "output_type": "stream",
     "text": [
      "Unique values in 'Retailer':\n",
      "['Foot Locker' 'Walmart' 'Sports Direct' 'West Gear' \"Kohl's\" 'Amazon']\n",
      "=========================\n",
      "Unique values in 'Region':\n",
      "['Northeast' 'South' 'West' 'Midwest' 'Southeast']\n",
      "=========================\n",
      "Unique values in 'State':\n",
      "['New York' 'Texas' 'California' 'Illinois' 'Pennsylvania' 'Nevada'\n",
      " 'Colorado' 'Washington' 'Florida' 'Minnesota' 'Montana' 'Tennessee'\n",
      " 'Nebraska' 'Alabama' 'Maine' 'Alaska' 'Hawaii' 'Wyoming' 'Virginia'\n",
      " 'Michigan' 'Missouri' 'Utah' 'Oregon' 'Louisiana' 'Idaho' 'Arizona'\n",
      " 'New Mexico' 'Georgia' 'South Carolina' 'North Carolina' 'Ohio'\n",
      " 'Kentucky' 'Mississippi' 'Arkansas' 'Oklahoma' 'Kansas' 'South Dakota'\n",
      " 'North Dakota' 'Iowa' 'Wisconsin' 'Indiana' 'West Virginia' 'Maryland'\n",
      " 'Delaware' 'New Jersey' 'Connecticut' 'Rhode Island' 'Massachusetts'\n",
      " 'Vermont' 'New Hampshire']\n",
      "=========================\n",
      "Unique values in 'City':\n",
      "['New York' 'Houston' 'San Francisco' 'Los Angeles' 'Chicago' 'Dallas'\n",
      " 'Philadelphia' 'Las Vegas' 'Denver' 'Seattle' 'Miami' 'Minneapolis'\n",
      " 'Billings' 'Knoxville' 'Omaha' 'Birmingham' 'Portland' 'Anchorage'\n",
      " 'Honolulu' 'Orlando' 'Albany' 'Cheyenne' 'Richmond' 'Detroit' 'St. Louis'\n",
      " 'Salt Lake City' 'New Orleans' 'Boise' 'Phoenix' 'Albuquerque' 'Atlanta'\n",
      " 'Charleston' 'Charlotte' 'Columbus' 'Louisville' 'Jackson' 'Little Rock'\n",
      " 'Oklahoma City' 'Wichita' 'Sioux Falls' 'Fargo' 'Des Moines' 'Milwaukee'\n",
      " 'Indianapolis' 'Baltimore' 'Wilmington' 'Newark' 'Hartford' 'Providence'\n",
      " 'Boston' 'Burlington' 'Manchester']\n",
      "=========================\n",
      "Unique values in 'Product':\n",
      "[\"Men's Street Footwear\" \"Men's Athletic Footwear\"\n",
      " \"Women's Street Footwear\" \"Women's Athletic Footwear\" \"Men's Apparel\"\n",
      " \"Women's Apparel\"]\n",
      "=========================\n",
      "Unique values in 'Sales Method':\n",
      "['In-store' 'Outlet' 'Online']\n",
      "=========================\n"
     ]
    }
   ],
   "source": [
    "# Get Unique categories in the categorical variables\n",
    "cat_cols = data.select_dtypes(include=\"O\").columns\n",
    "\n",
    "for col in cat_cols:\n",
    "    print(f\"Unique values in '{col}':\")\n",
    "    print(data[col].unique())\n",
    "    print(\"=\" * 25)"
   ]
  },
  {
   "cell_type": "markdown",
   "id": "249270f3",
   "metadata": {},
   "source": [
    "### **Check for Distribution of numerical columns**"
   ]
  },
  {
   "cell_type": "code",
   "execution_count": 253,
   "id": "96b9c0b6",
   "metadata": {},
   "outputs": [
    {
     "data": {
      "image/png": "[encoded data removed]",
      "text/plain": [
       "<Figure size 1000x600 with 6 Axes>"
      ]
     },
     "metadata": {},
     "output_type": "display_data"
    }
   ],
   "source": [
    "# Create subplots\n",
    "fig, axs = plt.subplots(3, 2, figsize=(10, 6))\n",
    "axs = axs.flatten()\n",
    "\n",
    "# Plot each histogram\n",
    "for i, col in enumerate(rel_cols):\n",
    "    sns.histplot(data[col], ax=axs[i], color='skyblue', kde=True)\n",
    "    axs[i].set_title(f'Distribution of {col}')\n",
    "    axs[i].set_xlabel('')\n",
    "    axs[i].set_ylabel('')\n",
    "\n",
    "# Turn off unused subplots (if fewer than 6 columns)\n",
    "for j in range(len(rel_cols), len(axs)):\n",
    "    axs[j].axis('off')\n",
    "\n",
    "plt.tight_layout()\n",
    "plt.show()\n"
   ]
  },
  {
   "cell_type": "markdown",
   "id": "b1d7d298",
   "metadata": {},
   "source": [
    "## Notes\n",
    "- Price per Unit and Operating Margin both follow a distribution that is approximately normal, though not perfectly. They show a bell-shaped curve with slight deviations from symmetry.\n",
    "\n",
    "- Total Sales, Operating Profit, and Units Sold are all right-skewed, meaning the majority of values are clustered on the lower end, with a long tail extending to the right.\n",
    "\n",
    "- This indicates that while most transactions are relatively modest in value and volume, there are a few high-performing entries (possibly large orders or high-revenue items) that significantly raise the upper range of the data."
   ]
  },
  {
   "cell_type": "markdown",
   "id": "9dc274e8",
   "metadata": {},
   "source": [
    "### **Final notes about the data**\n",
    "\n",
    "- The data is majorly clean however we will continue to monitor it closely for any data modelling requirements during our analysis\n"
   ]
  },
  {
   "cell_type": "markdown",
   "id": "277d6a48",
   "metadata": {},
   "source": [
    "## 3. **Data Preparation**"
   ]
  },
  {
   "cell_type": "code",
   "execution_count": 254,
   "id": "190053dd",
   "metadata": {},
   "outputs": [
    {
     "name": "stdout",
     "output_type": "stream",
     "text": [
      "<class 'pandas.core.series.Series'>\n",
      "RangeIndex: 9648 entries, 0 to 9647\n",
      "Series name: Invoice Date\n",
      "Non-Null Count  Dtype         \n",
      "--------------  -----         \n",
      "9648 non-null   datetime64[ns]\n",
      "dtypes: datetime64[ns](1)\n",
      "memory usage: 75.5 KB\n"
     ]
    }
   ],
   "source": [
    "# Add Year, Month, week and day columns in the dataset\n",
    "data[\"Invoice Date\"].info()"
   ]
  },
  {
   "cell_type": "code",
   "execution_count": 255,
   "id": "24b7f5f9",
   "metadata": {},
   "outputs": [
    {
     "data": {
      "text/html": [
       "<div>\n",
       "<style scoped>\n",
       "    .dataframe tbody tr th:only-of-type {\n",
       "        vertical-align: middle;\n",
       "    }\n",
       "\n",
       "    .dataframe tbody tr th {\n",
       "        vertical-align: top;\n",
       "    }\n",
       "\n",
       "    .dataframe thead th {\n",
       "        text-align: right;\n",
       "    }\n",
       "</style>\n",
       "<table border=\"1\" class=\"dataframe\">\n",
       "  <thead>\n",
       "    <tr style=\"text-align: right;\">\n",
       "      <th></th>\n",
       "      <th>Retailer</th>\n",
       "      <th>Retailer ID</th>\n",
       "      <th>Invoice Date</th>\n",
       "      <th>Region</th>\n",
       "      <th>State</th>\n",
       "      <th>City</th>\n",
       "      <th>Product</th>\n",
       "      <th>Price per Unit</th>\n",
       "      <th>Units Sold</th>\n",
       "      <th>Total Sales</th>\n",
       "      <th>Operating Profit</th>\n",
       "      <th>Operating Margin</th>\n",
       "      <th>Sales Method</th>\n",
       "      <th>Year</th>\n",
       "      <th>Month</th>\n",
       "      <th>Day of Week</th>\n",
       "      <th>Day of Month</th>\n",
       "    </tr>\n",
       "  </thead>\n",
       "  <tbody>\n",
       "    <tr>\n",
       "      <th>0</th>\n",
       "      <td>Foot Locker</td>\n",
       "      <td>1185732</td>\n",
       "      <td>2020-01-01</td>\n",
       "      <td>Northeast</td>\n",
       "      <td>New York</td>\n",
       "      <td>New York</td>\n",
       "      <td>Men's Street Footwear</td>\n",
       "      <td>50.0</td>\n",
       "      <td>1200</td>\n",
       "      <td>600000.0</td>\n",
       "      <td>300000.0</td>\n",
       "      <td>0.50</td>\n",
       "      <td>In-store</td>\n",
       "      <td>2020</td>\n",
       "      <td>January</td>\n",
       "      <td>Wednesday</td>\n",
       "      <td>1</td>\n",
       "    </tr>\n",
       "    <tr>\n",
       "      <th>1</th>\n",
       "      <td>Foot Locker</td>\n",
       "      <td>1185732</td>\n",
       "      <td>2020-01-02</td>\n",
       "      <td>Northeast</td>\n",
       "      <td>New York</td>\n",
       "      <td>New York</td>\n",
       "      <td>Men's Athletic Footwear</td>\n",
       "      <td>50.0</td>\n",
       "      <td>1000</td>\n",
       "      <td>500000.0</td>\n",
       "      <td>150000.0</td>\n",
       "      <td>0.30</td>\n",
       "      <td>In-store</td>\n",
       "      <td>2020</td>\n",
       "      <td>January</td>\n",
       "      <td>Thursday</td>\n",
       "      <td>2</td>\n",
       "    </tr>\n",
       "    <tr>\n",
       "      <th>2</th>\n",
       "      <td>Foot Locker</td>\n",
       "      <td>1185732</td>\n",
       "      <td>2020-01-03</td>\n",
       "      <td>Northeast</td>\n",
       "      <td>New York</td>\n",
       "      <td>New York</td>\n",
       "      <td>Women's Street Footwear</td>\n",
       "      <td>40.0</td>\n",
       "      <td>1000</td>\n",
       "      <td>400000.0</td>\n",
       "      <td>140000.0</td>\n",
       "      <td>0.35</td>\n",
       "      <td>In-store</td>\n",
       "      <td>2020</td>\n",
       "      <td>January</td>\n",
       "      <td>Friday</td>\n",
       "      <td>3</td>\n",
       "    </tr>\n",
       "    <tr>\n",
       "      <th>3</th>\n",
       "      <td>Foot Locker</td>\n",
       "      <td>1185732</td>\n",
       "      <td>2020-01-04</td>\n",
       "      <td>Northeast</td>\n",
       "      <td>New York</td>\n",
       "      <td>New York</td>\n",
       "      <td>Women's Athletic Footwear</td>\n",
       "      <td>45.0</td>\n",
       "      <td>850</td>\n",
       "      <td>382500.0</td>\n",
       "      <td>133875.0</td>\n",
       "      <td>0.35</td>\n",
       "      <td>In-store</td>\n",
       "      <td>2020</td>\n",
       "      <td>January</td>\n",
       "      <td>Saturday</td>\n",
       "      <td>4</td>\n",
       "    </tr>\n",
       "    <tr>\n",
       "      <th>4</th>\n",
       "      <td>Foot Locker</td>\n",
       "      <td>1185732</td>\n",
       "      <td>2020-01-05</td>\n",
       "      <td>Northeast</td>\n",
       "      <td>New York</td>\n",
       "      <td>New York</td>\n",
       "      <td>Men's Apparel</td>\n",
       "      <td>60.0</td>\n",
       "      <td>900</td>\n",
       "      <td>540000.0</td>\n",
       "      <td>162000.0</td>\n",
       "      <td>0.30</td>\n",
       "      <td>In-store</td>\n",
       "      <td>2020</td>\n",
       "      <td>January</td>\n",
       "      <td>Sunday</td>\n",
       "      <td>5</td>\n",
       "    </tr>\n",
       "  </tbody>\n",
       "</table>\n",
       "</div>"
      ],
      "text/plain": [
       "      Retailer  Retailer ID Invoice Date     Region     State      City  \\\n",
       "0  Foot Locker      1185732   2020-01-01  Northeast  New York  New York   \n",
       "1  Foot Locker      1185732   2020-01-02  Northeast  New York  New York   \n",
       "2  Foot Locker      1185732   2020-01-03  Northeast  New York  New York   \n",
       "3  Foot Locker      1185732   2020-01-04  Northeast  New York  New York   \n",
       "4  Foot Locker      1185732   2020-01-05  Northeast  New York  New York   \n",
       "\n",
       "                     Product  Price per Unit  Units Sold  Total Sales  \\\n",
       "0      Men's Street Footwear            50.0        1200     600000.0   \n",
       "1    Men's Athletic Footwear            50.0        1000     500000.0   \n",
       "2    Women's Street Footwear            40.0        1000     400000.0   \n",
       "3  Women's Athletic Footwear            45.0         850     382500.0   \n",
       "4              Men's Apparel            60.0         900     540000.0   \n",
       "\n",
       "   Operating Profit  Operating Margin Sales Method  Year    Month Day of Week  \\\n",
       "0          300000.0              0.50     In-store  2020  January   Wednesday   \n",
       "1          150000.0              0.30     In-store  2020  January    Thursday   \n",
       "2          140000.0              0.35     In-store  2020  January      Friday   \n",
       "3          133875.0              0.35     In-store  2020  January    Saturday   \n",
       "4          162000.0              0.30     In-store  2020  January      Sunday   \n",
       "\n",
       "   Day of Month  \n",
       "0             1  \n",
       "1             2  \n",
       "2             3  \n",
       "3             4  \n",
       "4             5  "
      ]
     },
     "execution_count": 255,
     "metadata": {},
     "output_type": "execute_result"
    }
   ],
   "source": [
    "# Add year\n",
    "data['Year'] = data[\"Invoice Date\"].dt.year\n",
    "\n",
    "# Add month\n",
    "data[\"Month\"] = data[\"Invoice Date\"].dt.month_name()\n",
    "\n",
    "# Add of the week\n",
    "data[\"Day of Week\"] = data[\"Invoice Date\"].dt.day_name()\n",
    "\n",
    "# Add of the Month\n",
    "data[\"Day of Month\"] = data[\"Invoice Date\"].dt.day\n",
    "\n",
    "data.head()"
   ]
  },
  {
   "cell_type": "markdown",
   "id": "04805f44",
   "metadata": {},
   "source": [
    "# **`Analytical Questions`**"
   ]
  },
  {
   "cell_type": "markdown",
   "id": "dfe6bae8",
   "metadata": {},
   "source": [
    "### 1. What is the total sales revenue across all countries?  "
   ]
  },
  {
   "cell_type": "code",
   "execution_count": 256,
   "id": "5f39e7e1",
   "metadata": {},
   "outputs": [
    {
     "name": "stdout",
     "output_type": "stream",
     "text": [
      "Total Sales: $899,902,125.00\n"
     ]
    }
   ],
   "source": [
    "# Calculate total sales revenue across the US\n",
    "total_sales = data[\"Total Sales\"].sum()\n",
    "print(f\"Total Sales: ${total_sales:,.2f}\")"
   ]
  },
  {
   "cell_type": "code",
   "execution_count": 260,
   "id": "7e09c809",
   "metadata": {},
   "outputs": [
    {
     "data": {
      "text/html": [
       "<style type=\"text/css\">\n",
       "</style>\n",
       "<table id=\"T_13a37\">\n",
       "  <thead>\n",
       "    <tr>\n",
       "      <th class=\"blank level0\" >&nbsp;</th>\n",
       "      <th id=\"T_13a37_level0_col0\" class=\"col_heading level0 col0\" >Year</th>\n",
       "      <th id=\"T_13a37_level0_col1\" class=\"col_heading level0 col1\" >Total Sales</th>\n",
       "    </tr>\n",
       "  </thead>\n",
       "  <tbody>\n",
       "    <tr>\n",
       "      <th id=\"T_13a37_level0_row0\" class=\"row_heading level0 row0\" >0</th>\n",
       "      <td id=\"T_13a37_row0_col0\" class=\"data row0 col0\" >2020</td>\n",
       "      <td id=\"T_13a37_row0_col1\" class=\"data row0 col1\" >182,080,675</td>\n",
       "    </tr>\n",
       "    <tr>\n",
       "      <th id=\"T_13a37_level0_row1\" class=\"row_heading level0 row1\" >1</th>\n",
       "      <td id=\"T_13a37_row1_col0\" class=\"data row1 col0\" >2021</td>\n",
       "      <td id=\"T_13a37_row1_col1\" class=\"data row1 col1\" >717,821,450</td>\n",
       "    </tr>\n",
       "  </tbody>\n",
       "</table>\n"
      ],
      "text/plain": [
       "<pandas.io.formats.style.Styler at 0x12e89a350>"
      ]
     },
     "execution_count": 260,
     "metadata": {},
     "output_type": "execute_result"
    }
   ],
   "source": [
    "# Convert to DataFrame\n",
    "year_total_sales = data.groupby(\"Year\")[\"Total Sales\"].sum()\n",
    "year_total_sales_df = year_total_sales.reset_index()\n",
    "year_total_sales_df.columns = ['Year', 'Total Sales']\n",
    "\n",
    "# Format Total Sales column\n",
    "year_total_sales_df.style.format({\"Total Sales\": \"{:,.0f}\"})\n"
   ]
  },
  {
   "cell_type": "code",
   "execution_count": 287,
   "id": "025b97e9",
   "metadata": {},
   "outputs": [
    {
     "data": {
      "image/png": "[encoded data removed]",
      "text/plain": [
       "<Figure size 500x400 with 1 Axes>"
      ]
     },
     "metadata": {},
     "output_type": "display_data"
    }
   ],
   "source": [
    "# Convert Series to DataFrame\n",
    "df = year_total_sales.reset_index()\n",
    "df.columns = ['Year', 'Total Sales']\n",
    "\n",
    "# Convert to millions\n",
    "df['Total Sales (M)'] = df['Total Sales'] / 1_000_000\n",
    "\n",
    "plt.figure(figsize=(5, 4))\n",
    "ax = sns.barplot(data=df, x='Year', y='Total Sales (M)', palette=[\"skyblue\", \"blue\"])\n",
    "plt.title(\"Total Adidas Sales Revenue in the US by Year\")\n",
    "\n",
    "# Add data labels in M\n",
    "for i, v in enumerate(df['Total Sales (M)']):\n",
    "    plt.text(i, v, f'{v:.1f}M', ha='center', va='bottom')\n",
    "\n",
    "# Format y-axis ticks to show M\n",
    "ax.set_ylabel(\"Total Sales (Millions)\")\n",
    "ax.set_yticklabels([f'{x:.1f}M' for x in ax.get_yticks()])\n",
    "\n",
    "plt.margins(x=0.1, y=0.1)\n",
    "plt.tight_layout()\n",
    "plt.show()\n"
   ]
  },
  {
   "cell_type": "markdown",
   "id": "869fcfc7",
   "metadata": {},
   "source": [
    "## Notes\n",
    "-  In 2020 and 2021, Adidas made **$899,902,125** in total sales revenue in the US\n",
    "- in 2020, Adidas made **$182,080,675** and in 2021 **$717,821,450** showing a great improvement in total sales revenue by **+ $535, 740, 775**"
   ]
  },
  {
   "cell_type": "markdown",
   "id": "c864b6f4",
   "metadata": {},
   "source": [
    "### 2.  Which region generates the highest profit, and which has the lowest? "
   ]
  },
  {
   "cell_type": "code",
   "execution_count": null,
   "id": "35ef5457",
   "metadata": {},
   "outputs": [
    {
     "data": {
      "text/html": [
       "<style type=\"text/css\">\n",
       "</style>\n",
       "<table id=\"T_4478d\">\n",
       "  <thead>\n",
       "    <tr>\n",
       "      <th class=\"blank level0\" >&nbsp;</th>\n",
       "      <th id=\"T_4478d_level0_col0\" class=\"col_heading level0 col0\" >Region</th>\n",
       "      <th id=\"T_4478d_level0_col1\" class=\"col_heading level0 col1\" >Operating Profit</th>\n",
       "    </tr>\n",
       "  </thead>\n",
       "  <tbody>\n",
       "    <tr>\n",
       "      <th id=\"T_4478d_level0_row0\" class=\"row_heading level0 row0\" >0</th>\n",
       "      <td id=\"T_4478d_row0_col0\" class=\"data row0 col0\" >West</td>\n",
       "      <td id=\"T_4478d_row0_col1\" class=\"data row0 col1\" >89,609,406.55</td>\n",
       "    </tr>\n",
       "    <tr>\n",
       "      <th id=\"T_4478d_level0_row1\" class=\"row_heading level0 row1\" >1</th>\n",
       "      <td id=\"T_4478d_row1_col0\" class=\"data row1 col0\" >Northeast</td>\n",
       "      <td id=\"T_4478d_row1_col1\" class=\"data row1 col1\" >68,020,587.65</td>\n",
       "    </tr>\n",
       "    <tr>\n",
       "      <th id=\"T_4478d_level0_row2\" class=\"row_heading level0 row2\" >2</th>\n",
       "      <td id=\"T_4478d_row2_col0\" class=\"data row2 col0\" >South</td>\n",
       "      <td id=\"T_4478d_row2_col1\" class=\"data row2 col1\" >61,138,004.07</td>\n",
       "    </tr>\n",
       "    <tr>\n",
       "      <th id=\"T_4478d_level0_row3\" class=\"row_heading level0 row3\" >3</th>\n",
       "      <td id=\"T_4478d_row3_col0\" class=\"data row3 col0\" >Southeast</td>\n",
       "      <td id=\"T_4478d_row3_col1\" class=\"data row3 col1\" >60,555,416.70</td>\n",
       "    </tr>\n",
       "    <tr>\n",
       "      <th id=\"T_4478d_level0_row4\" class=\"row_heading level0 row4\" >4</th>\n",
       "      <td id=\"T_4478d_row4_col0\" class=\"data row4 col0\" >Midwest</td>\n",
       "      <td id=\"T_4478d_row4_col1\" class=\"data row4 col1\" >52,811,346.48</td>\n",
       "    </tr>\n",
       "  </tbody>\n",
       "</table>\n"
      ],
      "text/plain": [
       "<pandas.io.formats.style.Styler at 0x13499c050>"
      ]
     },
     "execution_count": 299,
     "metadata": {},
     "output_type": "execute_result"
    }
   ],
   "source": [
    "# Calculate operating profit for all the region\n",
    "region_profit = data.groupby(\"Region\")[\"Operating Profit\"].sum().sort_values(ascending=False).reset_index()\n",
    "\n",
    "region_profit.style.format({\"Operating Profit\": \"{:,.2f}\"})"
   ]
  },
  {
   "cell_type": "code",
   "execution_count": 312,
   "id": "7fdb7605",
   "metadata": {},
   "outputs": [
    {
     "data": {
      "image/png": "[encoded data removed]",
      "text/plain": [
       "<Figure size 800x400 with 1 Axes>"
      ]
     },
     "metadata": {},
     "output_type": "display_data"
    }
   ],
   "source": [
    "# Convert profit to millions\n",
    "region_profit[\"Profit_M\"] = region_profit[\"Operating Profit\"] / 1_000_000\n",
    "\n",
    "plt.figure(figsize=(8, 4))\n",
    "ax = sns.barplot(y=region_profit['Region'], x=region_profit[\"Profit_M\"], color=\"skyblue\")\n",
    "plt.title(\"Operating Profit by Region\")\n",
    "plt.xlabel(\"Operating Profit (M)\")\n",
    "\n",
    "# Add data labels\n",
    "for i, v in enumerate(region_profit[\"Profit_M\"]):\n",
    "    plt.text(v, i, f'{v:.1f}M', va='center')\n",
    "\n",
    "plt.margins(x=0.1, y=0.1)\n",
    "plt.tight_layout()\n",
    "plt.show()"
   ]
  },
  {
   "cell_type": "markdown",
   "id": "3a07f1d2",
   "metadata": {},
   "source": [
    "### Notes \n",
    "\n",
    "-  The region with the highest operating profit is the **west** with **$89.6M**\n",
    "\n",
    "- Region with the lowest operating profit margin is **Midwest** with **$52.8**\n",
    "\n",
    "- Overall, all the regions are above the **50m** profit mark total(2020 and 2021)"
   ]
  },
  {
   "cell_type": "code",
   "execution_count": null,
   "id": "b16763e9",
   "metadata": {},
   "outputs": [
    {
     "data": {
      "text/html": [
       "<style type=\"text/css\">\n",
       "</style>\n",
       "<table id=\"T_f1ad8\">\n",
       "  <thead>\n",
       "    <tr>\n",
       "      <th class=\"blank level0\" >&nbsp;</th>\n",
       "      <th id=\"T_f1ad8_level0_col0\" class=\"col_heading level0 col0\" >Region</th>\n",
       "      <th id=\"T_f1ad8_level0_col1\" class=\"col_heading level0 col1\" >Year</th>\n",
       "      <th id=\"T_f1ad8_level0_col2\" class=\"col_heading level0 col2\" >Operating Profit</th>\n",
       "    </tr>\n",
       "  </thead>\n",
       "  <tbody>\n",
       "    <tr>\n",
       "      <th id=\"T_f1ad8_level0_row0\" class=\"row_heading level0 row0\" >9</th>\n",
       "      <td id=\"T_f1ad8_row0_col0\" class=\"data row0 col0\" >West</td>\n",
       "      <td id=\"T_f1ad8_row0_col1\" class=\"data row0 col1\" >2021</td>\n",
       "      <td id=\"T_f1ad8_row0_col2\" class=\"data row0 col2\" >65,140,528.21</td>\n",
       "    </tr>\n",
       "    <tr>\n",
       "      <th id=\"T_f1ad8_level0_row1\" class=\"row_heading level0 row1\" >8</th>\n",
       "      <td id=\"T_f1ad8_row1_col0\" class=\"data row1 col0\" >West</td>\n",
       "      <td id=\"T_f1ad8_row1_col1\" class=\"data row1 col1\" >2020</td>\n",
       "      <td id=\"T_f1ad8_row1_col2\" class=\"data row1 col2\" >24,468,878.34</td>\n",
       "    </tr>\n",
       "    <tr>\n",
       "      <th id=\"T_f1ad8_level0_row2\" class=\"row_heading level0 row2\" >7</th>\n",
       "      <td id=\"T_f1ad8_row2_col0\" class=\"data row2 col0\" >Southeast</td>\n",
       "      <td id=\"T_f1ad8_row2_col1\" class=\"data row2 col1\" >2021</td>\n",
       "      <td id=\"T_f1ad8_row2_col2\" class=\"data row2 col2\" >48,386,797.59</td>\n",
       "    </tr>\n",
       "    <tr>\n",
       "      <th id=\"T_f1ad8_level0_row3\" class=\"row_heading level0 row3\" >6</th>\n",
       "      <td id=\"T_f1ad8_row3_col0\" class=\"data row3 col0\" >Southeast</td>\n",
       "      <td id=\"T_f1ad8_row3_col1\" class=\"data row3 col1\" >2020</td>\n",
       "      <td id=\"T_f1ad8_row3_col2\" class=\"data row3 col2\" >12,168,619.11</td>\n",
       "    </tr>\n",
       "    <tr>\n",
       "      <th id=\"T_f1ad8_level0_row4\" class=\"row_heading level0 row4\" >5</th>\n",
       "      <td id=\"T_f1ad8_row4_col0\" class=\"data row4 col0\" >South</td>\n",
       "      <td id=\"T_f1ad8_row4_col1\" class=\"data row4 col1\" >2021</td>\n",
       "      <td id=\"T_f1ad8_row4_col2\" class=\"data row4 col2\" >51,292,863.01</td>\n",
       "    </tr>\n",
       "    <tr>\n",
       "      <th id=\"T_f1ad8_level0_row5\" class=\"row_heading level0 row5\" >4</th>\n",
       "      <td id=\"T_f1ad8_row5_col0\" class=\"data row5 col0\" >South</td>\n",
       "      <td id=\"T_f1ad8_row5_col1\" class=\"data row5 col1\" >2020</td>\n",
       "      <td id=\"T_f1ad8_row5_col2\" class=\"data row5 col2\" >9,845,141.06</td>\n",
       "    </tr>\n",
       "    <tr>\n",
       "      <th id=\"T_f1ad8_level0_row6\" class=\"row_heading level0 row6\" >3</th>\n",
       "      <td id=\"T_f1ad8_row6_col0\" class=\"data row6 col0\" >Northeast</td>\n",
       "      <td id=\"T_f1ad8_row6_col1\" class=\"data row6 col1\" >2021</td>\n",
       "      <td id=\"T_f1ad8_row6_col2\" class=\"data row6 col2\" >53,797,793.34</td>\n",
       "    </tr>\n",
       "    <tr>\n",
       "      <th id=\"T_f1ad8_level0_row7\" class=\"row_heading level0 row7\" >2</th>\n",
       "      <td id=\"T_f1ad8_row7_col0\" class=\"data row7 col0\" >Northeast</td>\n",
       "      <td id=\"T_f1ad8_row7_col1\" class=\"data row7 col1\" >2020</td>\n",
       "      <td id=\"T_f1ad8_row7_col2\" class=\"data row7 col2\" >14,222,794.31</td>\n",
       "    </tr>\n",
       "    <tr>\n",
       "      <th id=\"T_f1ad8_level0_row8\" class=\"row_heading level0 row8\" >1</th>\n",
       "      <td id=\"T_f1ad8_row8_col0\" class=\"data row8 col0\" >Midwest</td>\n",
       "      <td id=\"T_f1ad8_row8_col1\" class=\"data row8 col1\" >2021</td>\n",
       "      <td id=\"T_f1ad8_row8_col2\" class=\"data row8 col2\" >50,141,116.72</td>\n",
       "    </tr>\n",
       "    <tr>\n",
       "      <th id=\"T_f1ad8_level0_row9\" class=\"row_heading level0 row9\" >0</th>\n",
       "      <td id=\"T_f1ad8_row9_col0\" class=\"data row9 col0\" >Midwest</td>\n",
       "      <td id=\"T_f1ad8_row9_col1\" class=\"data row9 col1\" >2020</td>\n",
       "      <td id=\"T_f1ad8_row9_col2\" class=\"data row9 col2\" >2,670,229.76</td>\n",
       "    </tr>\n",
       "  </tbody>\n",
       "</table>\n"
      ],
      "text/plain": [
       "<pandas.io.formats.style.Styler at 0x131355810>"
      ]
     },
     "execution_count": 317,
     "metadata": {},
     "output_type": "execute_result"
    }
   ],
   "source": [
    "# Calculate operating profit by year and Region\n",
    "region_profit = (\n",
    "    data.groupby([\"Region\", \"Year\"])[\"Operating Profit\"]\n",
    "    .sum()\n",
    "    .reset_index()\n",
    "    .sort_values(by=[\"Region\", \"Year\", \"Operating Profit\"], ascending=[False, False, True])\n",
    ")\n",
    "\n",
    "region_profit.style.format({\"Operating Profit\": \"{:,.2f}\"})\n"
   ]
  },
  {
   "cell_type": "code",
   "execution_count": 326,
   "id": "8214b988",
   "metadata": {},
   "outputs": [
    {
     "data": {
      "image/png": "[encoded data removed]",
      "text/plain": [
       "<Figure size 1000x500 with 1 Axes>"
      ]
     },
     "metadata": {},
     "output_type": "display_data"
    }
   ],
   "source": [
    "# Sort regions by 2021 operating profit for clearer order in the chart\n",
    "order_2021 = (\n",
    "    region_profit[region_profit[\"Year\"] == 2021]\n",
    "    .sort_values(\"Operating Profit\", ascending=False)[\"Region\"]\n",
    "    .tolist()\n",
    ")\n",
    "\n",
    "# Create grouped horizontal bar plot\n",
    "plt.figure(figsize=(10, 5))\n",
    "ax = sns.barplot(\n",
    "    data=region_profit,\n",
    "    x=\"Operating Profit\",\n",
    "    y=\"Region\",\n",
    "    hue=\"Year\",\n",
    "    palette=[\"skyblue\", \"blue\"],\n",
    "    order=order_2021  # Sort by 2021 profits\n",
    ")\n",
    "\n",
    "# Add data labels\n",
    "for container in ax.containers:\n",
    "    ax.bar_label(container, fmt='%.1fM', label_type='edge', padding=3,\n",
    "                 labels=[f\"{v.get_width() / 1_000_000:.1f}M\" for v in container])\n",
    "\n",
    "plt.margins(x=0.1, y=0.1)\n",
    "plt.title(\"Operating Profit by Region and Year\")\n",
    "plt.xlabel(\"Operating Profit\")\n",
    "plt.ticklabel_format(style='plain', axis='x')  # Suppress scientific notation\n",
    "plt.tight_layout()\n",
    "plt.show()\n"
   ]
  }
 ],
 "metadata": {
  "kernelspec": {
   "display_name": ".venv",
   "language": "python",
   "name": "python3"
  },
  "language_info": {
   "codemirror_mode": {
    "name": "ipython",
    "version": 3
   },
   "file_extension": ".py",
   "mimetype": "text/x-python",
   "name": "python",
   "nbconvert_exporter": "python",
   "pygments_lexer": "ipython3",
   "version": "3.13.1"
  }
 },
 "nbformat": 4,
 "nbformat_minor": 5
}
