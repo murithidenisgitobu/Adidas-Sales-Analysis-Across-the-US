{
 "cells": [
  {
   "cell_type": "markdown",
   "id": "ca23c58d-d131-40b1-a0a0-c4e7c82a1e40",
   "metadata": {},
   "source": [
    "# TITLE: ADIDAS SALES ANALYSIS ACROSS THE US\n",
    "## 1. Business Understanding\n",
    "This analysis explores Adidas US sales trends across regions and product categories..."
   ]
  },
  {
   "cell_type": "markdown",
   "id": "21271c6b-63f2-4e09-8946-2c728bc8956a",
   "metadata": {},
   "source": [
    "- This projects aims to make a detailed analysis on US adidas sales\n",
    "\n",
    "- In this project, we aim to find out:\n",
    "\n",
    "a). What is the total sales revenue across all countries?  \n",
    "b). Which region generates the highest profit, and which has the lowest?  \n",
    "c). What is the sales contribution (%) of each market?   \n",
    "d). How do monthly sales and profits vary across the year?  \n",
    "e). Which months show the highest discounts given, and how does this impact profit?   \n",
    "f). What are the top 5 most profitable product subcategories?   \n",
    "g). Which product has the highest sales volume, and in which market is it sold the most?   \n",
    "h). What is the average order value (AOV) for each customer segment?   \n",
    "i). Which customer has the highest total sales, and what is their order frequency?   \n",
    "j). Which city has the highest sales, and what is the associated profit margin?   \n",
    "k). How do sales and profits vary across regions and countries?   \n",
    "l). What is the overall discount percentage, and how does it affect profit margins?   \n",
    "m). How many orders fall into negative profit, and which segments are affected the most?   \n",
    "n). What is the profit-to-sales ratio for each product category and subcategory?   \n",
    "o). Which market or region has the highest average order size (sales per order)?  \n",
    " "
   ]
  },
  {
   "cell_type": "code",
   "execution_count": 5,
   "id": "6a9739f7-4d34-4476-ac33-1e972a9da850",
   "metadata": {},
   "outputs": [],
   "source": [
    "import nbformat\n",
    "\n",
    "notebook_path = '../Jupyter Notebook/adidas_notebook.ipynb'\n",
    "with open(notebook_path, 'r', encoding='utf-8') as f:\n",
    "    notebook = nbformat.read(f, as_version=4)\n",
    "with open(notebook_path, 'w', encoding='utf-8') as f:\n",
    "    nbformat.write(notebook, f)"
   ]
  },
  {
   "cell_type": "code",
   "execution_count": null,
   "id": "8d24147d-2b8c-45b9-ad1c-ff9e4250a7a4",
   "metadata": {},
   "outputs": [],
   "source": []
  }
 ],
 "metadata": {
  "kernelspec": {
   "display_name": "Python 3 (ipykernel)",
   "language": "python",
   "name": "python3"
  },
  "language_info": {
   "codemirror_mode": {
    "name": "ipython",
    "version": 3
   },
   "file_extension": ".py",
   "mimetype": "text/x-python",
   "name": "python",
   "nbconvert_exporter": "python",
   "pygments_lexer": "ipython3",
   "version": "3.13.1"
  }
 },
 "nbformat": 4,
 "nbformat_minor": 5
}
