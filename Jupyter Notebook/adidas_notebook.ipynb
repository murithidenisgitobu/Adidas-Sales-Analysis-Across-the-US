{
 "cells": [
  {
   "cell_type": "markdown",
   "id": "ca23c58d-d131-40b1-a0a0-c4e7c82a1e40",
   "metadata": {},
   "source": [
    "# TITLE: **`ADIDAS SALES ANALYSIS ACROSS THE US`**\n",
    "## 1. **Business Understanding**"
   ]
  },
  {
   "cell_type": "markdown",
   "id": "21271c6b-63f2-4e09-8946-2c728bc8956a",
   "metadata": {},
   "source": [
    "- This projects aims to make a detailed analysis on US adidas sales\n",
    "\n",
    "- In this project, we aim to find out:\n",
    "\n",
    "a). What is the total sales revenue across all countries?  \n",
    "b). Which region generates the highest profit, and which has the lowest?  \n",
    "c). What is the sales contribution (%) of each market?   \n",
    "d). How do monthly sales and profits vary across the year?  \n",
    "e). Which months show the highest discounts given, and how does this impact profit?   \n",
    "f). What are the top 5 most profitable product subcategories?   \n",
    "g). Which product has the highest sales volume, and in which market is it sold the most?   \n",
    "h). What is the average order value (AOV) for each customer segment?   \n",
    "i). Which customer has the highest total sales, and what is their order frequency?   \n",
    "j). Which city has the highest sales, and what is the associated profit margin?   \n",
    "k). How do sales and profits vary across regions and countries?   \n",
    "l). What is the overall discount percentage, and how does it affect profit margins?   \n",
    "m). How many orders fall into negative profit, and which segments are affected the most?   \n",
    "n). What is the profit-to-sales ratio for each product category and subcategory?   \n",
    "o). Which market or region has the highest average order size (sales per order)?  \n",
    " "
   ]
  },
  {
   "cell_type": "markdown",
   "id": "3fe68272",
   "metadata": {},
   "source": [
    "## 2. **Data Undertanding**"
   ]
  },
  {
   "cell_type": "markdown",
   "id": "954d8270",
   "metadata": {},
   "source": [
    "Here's a **table describing each column**:\n",
    "\n",
    "| Column Name          | Description                                                               |\n",
    "| -------------------- | ------------------------------------------------------------------------- |\n",
    "| **Retailer**         | Name of the company or store selling the product                          |\n",
    "| **Retailer ID**      | Unique identifier for each retailer                                       |\n",
    "| **Invoice Date**     | Date when the sale was recorded or invoiced                               |\n",
    "| **Region**           | Geographic region where the sale took place (e.g., East, West, etc.)      |\n",
    "| **State**            | U.S. state where the sale occurred                                        |\n",
    "| **City**             | City where the sale was made                                              |\n",
    "| **Product**          | Name or type of product sold                                              |\n",
    "| **Price per Unit**   | Price of a single unit of the product                                     |\n",
    "| **Units Sold**       | Number of product units sold in the transaction                           |\n",
    "| **Total Sales**      | Total revenue from the sale (Price per Unit × Units Sold)                 |\n",
    "| **Operating Profit** | Profit made after subtracting operating costs from Total Sales            |\n",
    "| **Operating Margin** | Operating Profit as a percentage of Total Sales                           |\n",
    "| **Sales Method**     | Channel through which the product was sold (e.g., Online, In-store, etc.) |\n"
   ]
  },
  {
   "cell_type": "code",
   "execution_count": 73,
   "id": "38b650ff",
   "metadata": {},
   "outputs": [],
   "source": [
    "# Import libraries\n",
    "import pandas as pd\n",
    "import numpy as np\n",
    "import seaborn as sns\n",
    "import matplotlib.pyplot as plt\n",
    "import plotly.express as px\n",
    "import warnings\n",
    "warnings.filterwarnings('ignore')"
   ]
  },
  {
   "cell_type": "code",
   "execution_count": 74,
   "id": "0c75fe19",
   "metadata": {},
   "outputs": [
    {
     "data": {
      "text/html": [
       "<div>\n",
       "<style scoped>\n",
       "    .dataframe tbody tr th:only-of-type {\n",
       "        vertical-align: middle;\n",
       "    }\n",
       "\n",
       "    .dataframe tbody tr th {\n",
       "        vertical-align: top;\n",
       "    }\n",
       "\n",
       "    .dataframe thead th {\n",
       "        text-align: right;\n",
       "    }\n",
       "</style>\n",
       "<table border=\"1\" class=\"dataframe\">\n",
       "  <thead>\n",
       "    <tr style=\"text-align: right;\">\n",
       "      <th></th>\n",
       "      <th>Unnamed: 0</th>\n",
       "      <th>Retailer</th>\n",
       "      <th>Retailer ID</th>\n",
       "      <th>Invoice Date</th>\n",
       "      <th>Region</th>\n",
       "      <th>State</th>\n",
       "      <th>City</th>\n",
       "      <th>Product</th>\n",
       "      <th>Price per Unit</th>\n",
       "      <th>Units Sold</th>\n",
       "      <th>Total Sales</th>\n",
       "      <th>Operating Profit</th>\n",
       "      <th>Operating Margin</th>\n",
       "      <th>Sales Method</th>\n",
       "    </tr>\n",
       "  </thead>\n",
       "  <tbody>\n",
       "    <tr>\n",
       "      <th>0</th>\n",
       "      <td>NaN</td>\n",
       "      <td>Foot Locker</td>\n",
       "      <td>1185732</td>\n",
       "      <td>2020-01-01</td>\n",
       "      <td>Northeast</td>\n",
       "      <td>New York</td>\n",
       "      <td>New York</td>\n",
       "      <td>Men's Street Footwear</td>\n",
       "      <td>50.0</td>\n",
       "      <td>1200</td>\n",
       "      <td>600000.0</td>\n",
       "      <td>300000.0</td>\n",
       "      <td>0.50</td>\n",
       "      <td>In-store</td>\n",
       "    </tr>\n",
       "    <tr>\n",
       "      <th>1</th>\n",
       "      <td>NaN</td>\n",
       "      <td>Foot Locker</td>\n",
       "      <td>1185732</td>\n",
       "      <td>2020-01-02</td>\n",
       "      <td>Northeast</td>\n",
       "      <td>New York</td>\n",
       "      <td>New York</td>\n",
       "      <td>Men's Athletic Footwear</td>\n",
       "      <td>50.0</td>\n",
       "      <td>1000</td>\n",
       "      <td>500000.0</td>\n",
       "      <td>150000.0</td>\n",
       "      <td>0.30</td>\n",
       "      <td>In-store</td>\n",
       "    </tr>\n",
       "    <tr>\n",
       "      <th>2</th>\n",
       "      <td>NaN</td>\n",
       "      <td>Foot Locker</td>\n",
       "      <td>1185732</td>\n",
       "      <td>2020-01-03</td>\n",
       "      <td>Northeast</td>\n",
       "      <td>New York</td>\n",
       "      <td>New York</td>\n",
       "      <td>Women's Street Footwear</td>\n",
       "      <td>40.0</td>\n",
       "      <td>1000</td>\n",
       "      <td>400000.0</td>\n",
       "      <td>140000.0</td>\n",
       "      <td>0.35</td>\n",
       "      <td>In-store</td>\n",
       "    </tr>\n",
       "    <tr>\n",
       "      <th>3</th>\n",
       "      <td>NaN</td>\n",
       "      <td>Foot Locker</td>\n",
       "      <td>1185732</td>\n",
       "      <td>2020-01-04</td>\n",
       "      <td>Northeast</td>\n",
       "      <td>New York</td>\n",
       "      <td>New York</td>\n",
       "      <td>Women's Athletic Footwear</td>\n",
       "      <td>45.0</td>\n",
       "      <td>850</td>\n",
       "      <td>382500.0</td>\n",
       "      <td>133875.0</td>\n",
       "      <td>0.35</td>\n",
       "      <td>In-store</td>\n",
       "    </tr>\n",
       "    <tr>\n",
       "      <th>4</th>\n",
       "      <td>NaN</td>\n",
       "      <td>Foot Locker</td>\n",
       "      <td>1185732</td>\n",
       "      <td>2020-01-05</td>\n",
       "      <td>Northeast</td>\n",
       "      <td>New York</td>\n",
       "      <td>New York</td>\n",
       "      <td>Men's Apparel</td>\n",
       "      <td>60.0</td>\n",
       "      <td>900</td>\n",
       "      <td>540000.0</td>\n",
       "      <td>162000.0</td>\n",
       "      <td>0.30</td>\n",
       "      <td>In-store</td>\n",
       "    </tr>\n",
       "  </tbody>\n",
       "</table>\n",
       "</div>"
      ],
      "text/plain": [
       "   Unnamed: 0     Retailer  Retailer ID Invoice Date     Region     State  \\\n",
       "0         NaN  Foot Locker      1185732   2020-01-01  Northeast  New York   \n",
       "1         NaN  Foot Locker      1185732   2020-01-02  Northeast  New York   \n",
       "2         NaN  Foot Locker      1185732   2020-01-03  Northeast  New York   \n",
       "3         NaN  Foot Locker      1185732   2020-01-04  Northeast  New York   \n",
       "4         NaN  Foot Locker      1185732   2020-01-05  Northeast  New York   \n",
       "\n",
       "       City                    Product  Price per Unit  Units Sold  \\\n",
       "0  New York      Men's Street Footwear            50.0        1200   \n",
       "1  New York    Men's Athletic Footwear            50.0        1000   \n",
       "2  New York    Women's Street Footwear            40.0        1000   \n",
       "3  New York  Women's Athletic Footwear            45.0         850   \n",
       "4  New York              Men's Apparel            60.0         900   \n",
       "\n",
       "   Total Sales  Operating Profit  Operating Margin Sales Method  \n",
       "0     600000.0          300000.0              0.50     In-store  \n",
       "1     500000.0          150000.0              0.30     In-store  \n",
       "2     400000.0          140000.0              0.35     In-store  \n",
       "3     382500.0          133875.0              0.35     In-store  \n",
       "4     540000.0          162000.0              0.30     In-store  "
      ]
     },
     "execution_count": 74,
     "metadata": {},
     "output_type": "execute_result"
    }
   ],
   "source": [
    "# Load dataset\n",
    "data = pd.read_excel(\"../Data Sets/Adidas US Sales Datasets.xlsx\")\n",
    "\n",
    "\n",
    "data.head()"
   ]
  },
  {
   "cell_type": "code",
   "execution_count": 75,
   "id": "cf2414ac",
   "metadata": {},
   "outputs": [
    {
     "name": "stdout",
     "output_type": "stream",
     "text": [
      "The data has 14 columns and 9648 rows\n"
     ]
    }
   ],
   "source": [
    "# Check shape of data\n",
    "print(f\"The data has {data.shape[1]} columns and {data.shape[0]} rows\")"
   ]
  },
  {
   "cell_type": "code",
   "execution_count": 76,
   "id": "63b6fe94",
   "metadata": {},
   "outputs": [
    {
     "name": "stdout",
     "output_type": "stream",
     "text": [
      "<class 'pandas.core.frame.DataFrame'>\n",
      "RangeIndex: 9648 entries, 0 to 9647\n",
      "Data columns (total 14 columns):\n",
      " #   Column            Non-Null Count  Dtype         \n",
      "---  ------            --------------  -----         \n",
      " 0   Unnamed: 0        0 non-null      float64       \n",
      " 1   Retailer          9648 non-null   object        \n",
      " 2   Retailer ID       9648 non-null   int64         \n",
      " 3   Invoice Date      9648 non-null   datetime64[ns]\n",
      " 4   Region            9648 non-null   object        \n",
      " 5   State             9648 non-null   object        \n",
      " 6   City              9648 non-null   object        \n",
      " 7   Product           9648 non-null   object        \n",
      " 8   Price per Unit    9648 non-null   float64       \n",
      " 9   Units Sold        9648 non-null   int64         \n",
      " 10  Total Sales       9648 non-null   float64       \n",
      " 11  Operating Profit  9648 non-null   float64       \n",
      " 12  Operating Margin  9648 non-null   float64       \n",
      " 13  Sales Method      9648 non-null   object        \n",
      "dtypes: datetime64[ns](1), float64(5), int64(2), object(6)\n",
      "memory usage: 1.0+ MB\n"
     ]
    }
   ],
   "source": [
    "# Check for data information\n",
    "data.info()"
   ]
  },
  {
   "cell_type": "code",
   "execution_count": 77,
   "id": "cf6dcd24",
   "metadata": {},
   "outputs": [
    {
     "data": {
      "text/plain": [
       "RangeIndex(start=0, stop=9648, step=1)"
      ]
     },
     "execution_count": 77,
     "metadata": {},
     "output_type": "execute_result"
    }
   ],
   "source": [
    "# Check for data index\n",
    "data.index"
   ]
  },
  {
   "cell_type": "code",
   "execution_count": 78,
   "id": "0e4f7072",
   "metadata": {},
   "outputs": [
    {
     "data": {
      "text/html": [
       "<div>\n",
       "<style scoped>\n",
       "    .dataframe tbody tr th:only-of-type {\n",
       "        vertical-align: middle;\n",
       "    }\n",
       "\n",
       "    .dataframe tbody tr th {\n",
       "        vertical-align: top;\n",
       "    }\n",
       "\n",
       "    .dataframe thead th {\n",
       "        text-align: right;\n",
       "    }\n",
       "</style>\n",
       "<table border=\"1\" class=\"dataframe\">\n",
       "  <thead>\n",
       "    <tr style=\"text-align: right;\">\n",
       "      <th></th>\n",
       "      <th>Retailer</th>\n",
       "      <th>Retailer ID</th>\n",
       "      <th>Invoice Date</th>\n",
       "      <th>Region</th>\n",
       "      <th>State</th>\n",
       "      <th>City</th>\n",
       "      <th>Product</th>\n",
       "      <th>Price per Unit</th>\n",
       "      <th>Units Sold</th>\n",
       "      <th>Total Sales</th>\n",
       "      <th>Operating Profit</th>\n",
       "      <th>Operating Margin</th>\n",
       "      <th>Sales Method</th>\n",
       "    </tr>\n",
       "  </thead>\n",
       "  <tbody>\n",
       "    <tr>\n",
       "      <th>0</th>\n",
       "      <td>Foot Locker</td>\n",
       "      <td>1185732</td>\n",
       "      <td>2020-01-01</td>\n",
       "      <td>Northeast</td>\n",
       "      <td>New York</td>\n",
       "      <td>New York</td>\n",
       "      <td>Men's Street Footwear</td>\n",
       "      <td>50.0</td>\n",
       "      <td>1200</td>\n",
       "      <td>600000.0</td>\n",
       "      <td>300000.0</td>\n",
       "      <td>0.50</td>\n",
       "      <td>In-store</td>\n",
       "    </tr>\n",
       "    <tr>\n",
       "      <th>1</th>\n",
       "      <td>Foot Locker</td>\n",
       "      <td>1185732</td>\n",
       "      <td>2020-01-02</td>\n",
       "      <td>Northeast</td>\n",
       "      <td>New York</td>\n",
       "      <td>New York</td>\n",
       "      <td>Men's Athletic Footwear</td>\n",
       "      <td>50.0</td>\n",
       "      <td>1000</td>\n",
       "      <td>500000.0</td>\n",
       "      <td>150000.0</td>\n",
       "      <td>0.30</td>\n",
       "      <td>In-store</td>\n",
       "    </tr>\n",
       "    <tr>\n",
       "      <th>2</th>\n",
       "      <td>Foot Locker</td>\n",
       "      <td>1185732</td>\n",
       "      <td>2020-01-03</td>\n",
       "      <td>Northeast</td>\n",
       "      <td>New York</td>\n",
       "      <td>New York</td>\n",
       "      <td>Women's Street Footwear</td>\n",
       "      <td>40.0</td>\n",
       "      <td>1000</td>\n",
       "      <td>400000.0</td>\n",
       "      <td>140000.0</td>\n",
       "      <td>0.35</td>\n",
       "      <td>In-store</td>\n",
       "    </tr>\n",
       "    <tr>\n",
       "      <th>3</th>\n",
       "      <td>Foot Locker</td>\n",
       "      <td>1185732</td>\n",
       "      <td>2020-01-04</td>\n",
       "      <td>Northeast</td>\n",
       "      <td>New York</td>\n",
       "      <td>New York</td>\n",
       "      <td>Women's Athletic Footwear</td>\n",
       "      <td>45.0</td>\n",
       "      <td>850</td>\n",
       "      <td>382500.0</td>\n",
       "      <td>133875.0</td>\n",
       "      <td>0.35</td>\n",
       "      <td>In-store</td>\n",
       "    </tr>\n",
       "    <tr>\n",
       "      <th>4</th>\n",
       "      <td>Foot Locker</td>\n",
       "      <td>1185732</td>\n",
       "      <td>2020-01-05</td>\n",
       "      <td>Northeast</td>\n",
       "      <td>New York</td>\n",
       "      <td>New York</td>\n",
       "      <td>Men's Apparel</td>\n",
       "      <td>60.0</td>\n",
       "      <td>900</td>\n",
       "      <td>540000.0</td>\n",
       "      <td>162000.0</td>\n",
       "      <td>0.30</td>\n",
       "      <td>In-store</td>\n",
       "    </tr>\n",
       "  </tbody>\n",
       "</table>\n",
       "</div>"
      ],
      "text/plain": [
       "      Retailer  Retailer ID Invoice Date     Region     State      City  \\\n",
       "0  Foot Locker      1185732   2020-01-01  Northeast  New York  New York   \n",
       "1  Foot Locker      1185732   2020-01-02  Northeast  New York  New York   \n",
       "2  Foot Locker      1185732   2020-01-03  Northeast  New York  New York   \n",
       "3  Foot Locker      1185732   2020-01-04  Northeast  New York  New York   \n",
       "4  Foot Locker      1185732   2020-01-05  Northeast  New York  New York   \n",
       "\n",
       "                     Product  Price per Unit  Units Sold  Total Sales  \\\n",
       "0      Men's Street Footwear            50.0        1200     600000.0   \n",
       "1    Men's Athletic Footwear            50.0        1000     500000.0   \n",
       "2    Women's Street Footwear            40.0        1000     400000.0   \n",
       "3  Women's Athletic Footwear            45.0         850     382500.0   \n",
       "4              Men's Apparel            60.0         900     540000.0   \n",
       "\n",
       "   Operating Profit  Operating Margin Sales Method  \n",
       "0          300000.0              0.50     In-store  \n",
       "1          150000.0              0.30     In-store  \n",
       "2          140000.0              0.35     In-store  \n",
       "3          133875.0              0.35     In-store  \n",
       "4          162000.0              0.30     In-store  "
      ]
     },
     "execution_count": 78,
     "metadata": {},
     "output_type": "execute_result"
    }
   ],
   "source": [
    "# Drop the first irrelevant column - \"Unnamed: 0\"\n",
    "data.drop(\"Unnamed: 0\", axis=1, inplace=True)\n",
    "\n",
    "data.head()"
   ]
  },
  {
   "cell_type": "code",
   "execution_count": 79,
   "id": "4537a334",
   "metadata": {},
   "outputs": [
    {
     "name": "stdout",
     "output_type": "stream",
     "text": [
      "The data has 13 columns and 9648 rows\n"
     ]
    }
   ],
   "source": [
    "# Check new shape of the data\n",
    "print(f\"The data has {data.shape[1]} columns and {data.shape[0]} rows\")"
   ]
  },
  {
   "cell_type": "code",
   "execution_count": 80,
   "id": "2fd11e2a",
   "metadata": {},
   "outputs": [
    {
     "name": "stdout",
     "output_type": "stream",
     "text": [
      "There are 0 null values in Retailer\n",
      "There are 0 null values in Retailer ID\n",
      "There are 0 null values in Invoice Date\n",
      "There are 0 null values in Region\n",
      "There are 0 null values in State\n",
      "There are 0 null values in City\n",
      "There are 0 null values in Product\n",
      "There are 0 null values in Price per Unit\n",
      "There are 0 null values in Units Sold\n",
      "There are 0 null values in Total Sales\n",
      "There are 0 null values in Operating Profit\n",
      "There are 0 null values in Operating Margin\n",
      "There are 0 null values in Sales Method\n"
     ]
    }
   ],
   "source": [
    "# Check for null values in the dataset\n",
    "for col in data.columns:\n",
    "    print(f'There are {data[col].isna().sum()} null values in {col}')"
   ]
  },
  {
   "cell_type": "code",
   "execution_count": 81,
   "id": "46729553",
   "metadata": {},
   "outputs": [
    {
     "name": "stdout",
     "output_type": "stream",
     "text": [
      "There are 0 duplicates in the dataset\n"
     ]
    }
   ],
   "source": [
    "# Check for duplicates in the dataset\n",
    "print(f\"There are {data.duplicated().sum()} duplicates in the dataset\")"
   ]
  },
  {
   "cell_type": "code",
   "execution_count": 82,
   "id": "77423452",
   "metadata": {},
   "outputs": [
    {
     "data": {
      "text/html": [
       "<style type=\"text/css\">\n",
       "</style>\n",
       "<table id=\"T_221cf\">\n",
       "  <thead>\n",
       "    <tr>\n",
       "      <th class=\"blank level0\" >&nbsp;</th>\n",
       "      <th id=\"T_221cf_level0_col0\" class=\"col_heading level0 col0\" >count</th>\n",
       "      <th id=\"T_221cf_level0_col1\" class=\"col_heading level0 col1\" >mean</th>\n",
       "      <th id=\"T_221cf_level0_col2\" class=\"col_heading level0 col2\" >min</th>\n",
       "      <th id=\"T_221cf_level0_col3\" class=\"col_heading level0 col3\" >25%</th>\n",
       "      <th id=\"T_221cf_level0_col4\" class=\"col_heading level0 col4\" >50%</th>\n",
       "      <th id=\"T_221cf_level0_col5\" class=\"col_heading level0 col5\" >75%</th>\n",
       "      <th id=\"T_221cf_level0_col6\" class=\"col_heading level0 col6\" >max</th>\n",
       "      <th id=\"T_221cf_level0_col7\" class=\"col_heading level0 col7\" >std</th>\n",
       "    </tr>\n",
       "  </thead>\n",
       "  <tbody>\n",
       "    <tr>\n",
       "      <th id=\"T_221cf_level0_row0\" class=\"row_heading level0 row0\" >Retailer ID</th>\n",
       "      <td id=\"T_221cf_row0_col0\" class=\"data row0 col0\" >9,648.00</td>\n",
       "      <td id=\"T_221cf_row0_col1\" class=\"data row0 col1\" >1,173,849.72</td>\n",
       "      <td id=\"T_221cf_row0_col2\" class=\"data row0 col2\" >1,128,299.00</td>\n",
       "      <td id=\"T_221cf_row0_col3\" class=\"data row0 col3\" >1,185,732.00</td>\n",
       "      <td id=\"T_221cf_row0_col4\" class=\"data row0 col4\" >1,185,732.00</td>\n",
       "      <td id=\"T_221cf_row0_col5\" class=\"data row0 col5\" >1,185,732.00</td>\n",
       "      <td id=\"T_221cf_row0_col6\" class=\"data row0 col6\" >1,197,831.00</td>\n",
       "      <td id=\"T_221cf_row0_col7\" class=\"data row0 col7\" >26,360.38</td>\n",
       "    </tr>\n",
       "    <tr>\n",
       "      <th id=\"T_221cf_level0_row1\" class=\"row_heading level0 row1\" >Invoice Date</th>\n",
       "      <td id=\"T_221cf_row1_col0\" class=\"data row1 col0\" >9,648.00</td>\n",
       "      <td id=\"T_221cf_row1_col1\" class=\"data row1 col1\" >,.2f</td>\n",
       "      <td id=\"T_221cf_row1_col2\" class=\"data row1 col2\" >,.2f</td>\n",
       "      <td id=\"T_221cf_row1_col3\" class=\"data row1 col3\" >,.2f</td>\n",
       "      <td id=\"T_221cf_row1_col4\" class=\"data row1 col4\" >,.2f</td>\n",
       "      <td id=\"T_221cf_row1_col5\" class=\"data row1 col5\" >,.2f</td>\n",
       "      <td id=\"T_221cf_row1_col6\" class=\"data row1 col6\" >,.2f</td>\n",
       "      <td id=\"T_221cf_row1_col7\" class=\"data row1 col7\" >nan</td>\n",
       "    </tr>\n",
       "    <tr>\n",
       "      <th id=\"T_221cf_level0_row2\" class=\"row_heading level0 row2\" >Price per Unit</th>\n",
       "      <td id=\"T_221cf_row2_col0\" class=\"data row2 col0\" >9,648.00</td>\n",
       "      <td id=\"T_221cf_row2_col1\" class=\"data row2 col1\" >45.22</td>\n",
       "      <td id=\"T_221cf_row2_col2\" class=\"data row2 col2\" >7.00</td>\n",
       "      <td id=\"T_221cf_row2_col3\" class=\"data row2 col3\" >35.00</td>\n",
       "      <td id=\"T_221cf_row2_col4\" class=\"data row2 col4\" >45.00</td>\n",
       "      <td id=\"T_221cf_row2_col5\" class=\"data row2 col5\" >55.00</td>\n",
       "      <td id=\"T_221cf_row2_col6\" class=\"data row2 col6\" >110.00</td>\n",
       "      <td id=\"T_221cf_row2_col7\" class=\"data row2 col7\" >14.71</td>\n",
       "    </tr>\n",
       "    <tr>\n",
       "      <th id=\"T_221cf_level0_row3\" class=\"row_heading level0 row3\" >Units Sold</th>\n",
       "      <td id=\"T_221cf_row3_col0\" class=\"data row3 col0\" >9,648.00</td>\n",
       "      <td id=\"T_221cf_row3_col1\" class=\"data row3 col1\" >256.93</td>\n",
       "      <td id=\"T_221cf_row3_col2\" class=\"data row3 col2\" >0.00</td>\n",
       "      <td id=\"T_221cf_row3_col3\" class=\"data row3 col3\" >106.00</td>\n",
       "      <td id=\"T_221cf_row3_col4\" class=\"data row3 col4\" >176.00</td>\n",
       "      <td id=\"T_221cf_row3_col5\" class=\"data row3 col5\" >350.00</td>\n",
       "      <td id=\"T_221cf_row3_col6\" class=\"data row3 col6\" >1,275.00</td>\n",
       "      <td id=\"T_221cf_row3_col7\" class=\"data row3 col7\" >214.25</td>\n",
       "    </tr>\n",
       "    <tr>\n",
       "      <th id=\"T_221cf_level0_row4\" class=\"row_heading level0 row4\" >Total Sales</th>\n",
       "      <td id=\"T_221cf_row4_col0\" class=\"data row4 col0\" >9,648.00</td>\n",
       "      <td id=\"T_221cf_row4_col1\" class=\"data row4 col1\" >93,273.44</td>\n",
       "      <td id=\"T_221cf_row4_col2\" class=\"data row4 col2\" >0.00</td>\n",
       "      <td id=\"T_221cf_row4_col3\" class=\"data row4 col3\" >4,254.50</td>\n",
       "      <td id=\"T_221cf_row4_col4\" class=\"data row4 col4\" >9,576.00</td>\n",
       "      <td id=\"T_221cf_row4_col5\" class=\"data row4 col5\" >150,000.00</td>\n",
       "      <td id=\"T_221cf_row4_col6\" class=\"data row4 col6\" >825,000.00</td>\n",
       "      <td id=\"T_221cf_row4_col7\" class=\"data row4 col7\" >141,916.02</td>\n",
       "    </tr>\n",
       "    <tr>\n",
       "      <th id=\"T_221cf_level0_row5\" class=\"row_heading level0 row5\" >Operating Profit</th>\n",
       "      <td id=\"T_221cf_row5_col0\" class=\"data row5 col0\" >9,648.00</td>\n",
       "      <td id=\"T_221cf_row5_col1\" class=\"data row5 col1\" >34,425.24</td>\n",
       "      <td id=\"T_221cf_row5_col2\" class=\"data row5 col2\" >0.00</td>\n",
       "      <td id=\"T_221cf_row5_col3\" class=\"data row5 col3\" >1,921.75</td>\n",
       "      <td id=\"T_221cf_row5_col4\" class=\"data row5 col4\" >4,371.42</td>\n",
       "      <td id=\"T_221cf_row5_col5\" class=\"data row5 col5\" >52,062.50</td>\n",
       "      <td id=\"T_221cf_row5_col6\" class=\"data row5 col6\" >390,000.00</td>\n",
       "      <td id=\"T_221cf_row5_col7\" class=\"data row5 col7\" >54,193.11</td>\n",
       "    </tr>\n",
       "    <tr>\n",
       "      <th id=\"T_221cf_level0_row6\" class=\"row_heading level0 row6\" >Operating Margin</th>\n",
       "      <td id=\"T_221cf_row6_col0\" class=\"data row6 col0\" >9,648.00</td>\n",
       "      <td id=\"T_221cf_row6_col1\" class=\"data row6 col1\" >0.42</td>\n",
       "      <td id=\"T_221cf_row6_col2\" class=\"data row6 col2\" >0.10</td>\n",
       "      <td id=\"T_221cf_row6_col3\" class=\"data row6 col3\" >0.35</td>\n",
       "      <td id=\"T_221cf_row6_col4\" class=\"data row6 col4\" >0.41</td>\n",
       "      <td id=\"T_221cf_row6_col5\" class=\"data row6 col5\" >0.49</td>\n",
       "      <td id=\"T_221cf_row6_col6\" class=\"data row6 col6\" >0.80</td>\n",
       "      <td id=\"T_221cf_row6_col7\" class=\"data row6 col7\" >0.10</td>\n",
       "    </tr>\n",
       "  </tbody>\n",
       "</table>\n"
      ],
      "text/plain": [
       "<pandas.io.formats.style.Styler at 0x12d0b5bd0>"
      ]
     },
     "execution_count": 82,
     "metadata": {},
     "output_type": "execute_result"
    }
   ],
   "source": [
    "# Describe the numerical columns in the dataset\n",
    "data.describe().T.style.format(\"{:,.2f}\")"
   ]
  },
  {
   "cell_type": "code",
   "execution_count": 83,
   "id": "807441a5",
   "metadata": {},
   "outputs": [
    {
     "data": {
      "text/html": [
       "<style type=\"text/css\">\n",
       "</style>\n",
       "<table id=\"T_03436\">\n",
       "  <thead>\n",
       "    <tr>\n",
       "      <th class=\"blank level0\" >&nbsp;</th>\n",
       "      <th id=\"T_03436_level0_col0\" class=\"col_heading level0 col0\" >count</th>\n",
       "      <th id=\"T_03436_level0_col1\" class=\"col_heading level0 col1\" >unique</th>\n",
       "      <th id=\"T_03436_level0_col2\" class=\"col_heading level0 col2\" >top</th>\n",
       "      <th id=\"T_03436_level0_col3\" class=\"col_heading level0 col3\" >freq</th>\n",
       "    </tr>\n",
       "  </thead>\n",
       "  <tbody>\n",
       "    <tr>\n",
       "      <th id=\"T_03436_level0_row0\" class=\"row_heading level0 row0\" >Retailer</th>\n",
       "      <td id=\"T_03436_row0_col0\" class=\"data row0 col0\" >9,648</td>\n",
       "      <td id=\"T_03436_row0_col1\" class=\"data row0 col1\" >6</td>\n",
       "      <td id=\"T_03436_row0_col2\" class=\"data row0 col2\" >Foot Locker</td>\n",
       "      <td id=\"T_03436_row0_col3\" class=\"data row0 col3\" >2,637</td>\n",
       "    </tr>\n",
       "    <tr>\n",
       "      <th id=\"T_03436_level0_row1\" class=\"row_heading level0 row1\" >Region</th>\n",
       "      <td id=\"T_03436_row1_col0\" class=\"data row1 col0\" >9,648</td>\n",
       "      <td id=\"T_03436_row1_col1\" class=\"data row1 col1\" >5</td>\n",
       "      <td id=\"T_03436_row1_col2\" class=\"data row1 col2\" >West</td>\n",
       "      <td id=\"T_03436_row1_col3\" class=\"data row1 col3\" >2,448</td>\n",
       "    </tr>\n",
       "    <tr>\n",
       "      <th id=\"T_03436_level0_row2\" class=\"row_heading level0 row2\" >State</th>\n",
       "      <td id=\"T_03436_row2_col0\" class=\"data row2 col0\" >9,648</td>\n",
       "      <td id=\"T_03436_row2_col1\" class=\"data row2 col1\" >50</td>\n",
       "      <td id=\"T_03436_row2_col2\" class=\"data row2 col2\" >Texas</td>\n",
       "      <td id=\"T_03436_row2_col3\" class=\"data row2 col3\" >432</td>\n",
       "    </tr>\n",
       "    <tr>\n",
       "      <th id=\"T_03436_level0_row3\" class=\"row_heading level0 row3\" >City</th>\n",
       "      <td id=\"T_03436_row3_col0\" class=\"data row3 col0\" >9,648</td>\n",
       "      <td id=\"T_03436_row3_col1\" class=\"data row3 col1\" >52</td>\n",
       "      <td id=\"T_03436_row3_col2\" class=\"data row3 col2\" >Portland</td>\n",
       "      <td id=\"T_03436_row3_col3\" class=\"data row3 col3\" >360</td>\n",
       "    </tr>\n",
       "    <tr>\n",
       "      <th id=\"T_03436_level0_row4\" class=\"row_heading level0 row4\" >Product</th>\n",
       "      <td id=\"T_03436_row4_col0\" class=\"data row4 col0\" >9,648</td>\n",
       "      <td id=\"T_03436_row4_col1\" class=\"data row4 col1\" >6</td>\n",
       "      <td id=\"T_03436_row4_col2\" class=\"data row4 col2\" >Men's Street Footwear</td>\n",
       "      <td id=\"T_03436_row4_col3\" class=\"data row4 col3\" >1,610</td>\n",
       "    </tr>\n",
       "    <tr>\n",
       "      <th id=\"T_03436_level0_row5\" class=\"row_heading level0 row5\" >Sales Method</th>\n",
       "      <td id=\"T_03436_row5_col0\" class=\"data row5 col0\" >9,648</td>\n",
       "      <td id=\"T_03436_row5_col1\" class=\"data row5 col1\" >3</td>\n",
       "      <td id=\"T_03436_row5_col2\" class=\"data row5 col2\" >Online</td>\n",
       "      <td id=\"T_03436_row5_col3\" class=\"data row5 col3\" >4,889</td>\n",
       "    </tr>\n",
       "  </tbody>\n",
       "</table>\n"
      ],
      "text/plain": [
       "<pandas.io.formats.style.Styler at 0x12d0b5450>"
      ]
     },
     "execution_count": 83,
     "metadata": {},
     "output_type": "execute_result"
    }
   ],
   "source": [
    "# Describe the objaect columns in the dataset\n",
    "data.describe(include=\"O\").T.style.format({\n",
    "    'count': '{:,}',\n",
    "    'freq': '{:,}'\n",
    "})"
   ]
  },
  {
   "cell_type": "markdown",
   "id": "81facb9f",
   "metadata": {},
   "source": [
    "## **Exploratory Data Analysis**"
   ]
  },
  {
   "cell_type": "markdown",
   "id": "8c07415a",
   "metadata": {},
   "source": [
    "### **Check for Outliers**"
   ]
  },
  {
   "cell_type": "code",
   "execution_count": 89,
   "id": "6aedf859",
   "metadata": {},
   "outputs": [
    {
     "data": {
      "text/plain": [
       "Index(['Retailer ID', 'Invoice Date', 'Price per Unit', 'Units Sold',\n",
       "       'Total Sales', 'Operating Profit', 'Operating Margin'],\n",
       "      dtype='object')"
      ]
     },
     "execution_count": 89,
     "metadata": {},
     "output_type": "execute_result"
    }
   ],
   "source": [
    "# Check for outliers in the numerical columns\n",
    "num_cols = data.select_dtypes(exclude=\"O\")\n",
    "\n",
    "num_cols.columns"
   ]
  },
  {
   "cell_type": "code",
   "execution_count": 95,
   "id": "c121bf3d",
   "metadata": {},
   "outputs": [
    {
     "data": {
      "image/png": "[encoded data removed]",
      "text/plain": [
       "<Figure size 1200x600 with 6 Axes>"
      ]
     },
     "metadata": {},
     "output_type": "display_data"
    }
   ],
   "source": [
    "# Get only relevant columns from the numerical columns\n",
    "rel_cols = ['Price per Unit', 'Units Sold', 'Total Sales', 'Operating Profit', 'Operating Margin']\n",
    "\n",
    "# Create 2x2 subplots + 1 extra row\n",
    "fig, axs = plt.subplots(3, 2, figsize=(12, 6)) \n",
    "\n",
    "axs = axs.flatten()  # Flatten to make it easier to loop through\n",
    "\n",
    "# Plot each boxplot\n",
    "for i, col in enumerate(rel_cols):\n",
    "    sns.boxplot(x=data[col], ax=axs[i], color='lightblue')\n",
    "    axs[i].set_title(f'Boxplot of {col}')\n",
    "    axs[i].set_xlabel('')  \n",
    "\n",
    "# Hide the unused sixth subplot\n",
    "if len(rel_cols) < len(axs):\n",
    "    axs[-1].axis('off')\n",
    "\n",
    "plt.tight_layout()\n",
    "plt.show()"
   ]
  },
  {
   "cell_type": "markdown",
   "id": "86ae5e1b",
   "metadata": {},
   "source": [
    "## **Notes**\n",
    "\n",
    "- All the columns have outliers. This means there could be underlyig causes such as changes in behavior or business processes which call for more examination to clearly arrive at a logical conlusion\n",
    "\n",
    "Causes of action:\n",
    "- Investigate first: Understand why they exist\n",
    "\n",
    "- Fix or remove: If they’re errors\n",
    "\n",
    "- Cap or transform: Use log-scaling, winsorization, etc.\n",
    "\n",
    "- Keep: If they reflect real and important variation"
   ]
  },
  {
   "cell_type": "markdown",
   "id": "f6945f36",
   "metadata": {},
   "source": [
    "### **Check for unique values in categorical columns**"
   ]
  },
  {
   "cell_type": "code",
   "execution_count": 111,
   "id": "77843048",
   "metadata": {},
   "outputs": [
    {
     "name": "stdout",
     "output_type": "stream",
     "text": [
      "Unique values in 'Retailer':\n",
      "['Foot Locker' 'Walmart' 'Sports Direct' 'West Gear' \"Kohl's\" 'Amazon']\n",
      "=========================\n",
      "Unique values in 'Region':\n",
      "['Northeast' 'South' 'West' 'Midwest' 'Southeast']\n",
      "=========================\n",
      "Unique values in 'State':\n",
      "['New York' 'Texas' 'California' 'Illinois' 'Pennsylvania' 'Nevada'\n",
      " 'Colorado' 'Washington' 'Florida' 'Minnesota' 'Montana' 'Tennessee'\n",
      " 'Nebraska' 'Alabama' 'Maine' 'Alaska' 'Hawaii' 'Wyoming' 'Virginia'\n",
      " 'Michigan' 'Missouri' 'Utah' 'Oregon' 'Louisiana' 'Idaho' 'Arizona'\n",
      " 'New Mexico' 'Georgia' 'South Carolina' 'North Carolina' 'Ohio'\n",
      " 'Kentucky' 'Mississippi' 'Arkansas' 'Oklahoma' 'Kansas' 'South Dakota'\n",
      " 'North Dakota' 'Iowa' 'Wisconsin' 'Indiana' 'West Virginia' 'Maryland'\n",
      " 'Delaware' 'New Jersey' 'Connecticut' 'Rhode Island' 'Massachusetts'\n",
      " 'Vermont' 'New Hampshire']\n",
      "=========================\n",
      "Unique values in 'City':\n",
      "['New York' 'Houston' 'San Francisco' 'Los Angeles' 'Chicago' 'Dallas'\n",
      " 'Philadelphia' 'Las Vegas' 'Denver' 'Seattle' 'Miami' 'Minneapolis'\n",
      " 'Billings' 'Knoxville' 'Omaha' 'Birmingham' 'Portland' 'Anchorage'\n",
      " 'Honolulu' 'Orlando' 'Albany' 'Cheyenne' 'Richmond' 'Detroit' 'St. Louis'\n",
      " 'Salt Lake City' 'New Orleans' 'Boise' 'Phoenix' 'Albuquerque' 'Atlanta'\n",
      " 'Charleston' 'Charlotte' 'Columbus' 'Louisville' 'Jackson' 'Little Rock'\n",
      " 'Oklahoma City' 'Wichita' 'Sioux Falls' 'Fargo' 'Des Moines' 'Milwaukee'\n",
      " 'Indianapolis' 'Baltimore' 'Wilmington' 'Newark' 'Hartford' 'Providence'\n",
      " 'Boston' 'Burlington' 'Manchester']\n",
      "=========================\n",
      "Unique values in 'Product':\n",
      "[\"Men's Street Footwear\" \"Men's Athletic Footwear\"\n",
      " \"Women's Street Footwear\" \"Women's Athletic Footwear\" \"Men's Apparel\"\n",
      " \"Women's Apparel\"]\n",
      "=========================\n",
      "Unique values in 'Sales Method':\n",
      "['In-store' 'Outlet' 'Online']\n",
      "=========================\n"
     ]
    }
   ],
   "source": [
    "# Get Unique categories in the categorical variables\n",
    "cat_cols = data.select_dtypes(include=\"O\").columns\n",
    "\n",
    "for col in cat_cols:\n",
    "    print(f\"Unique values in '{col}':\")\n",
    "    print(data[col].unique())\n",
    "    print(\"=\" * 25)"
   ]
  },
  {
   "cell_type": "markdown",
   "id": "249270f3",
   "metadata": {},
   "source": [
    "### **Check for Distribution of numerical columns**"
   ]
  },
  {
   "cell_type": "code",
   "execution_count": 135,
   "id": "96b9c0b6",
   "metadata": {},
   "outputs": [
    {
     "data": {
      "image/png": "[encoded data removed]",
      "text/plain": [
       "<Figure size 1000x600 with 6 Axes>"
      ]
     },
     "metadata": {},
     "output_type": "display_data"
    }
   ],
   "source": [
    "# Create subplots\n",
    "fig, axs = plt.subplots(3, 2, figsize=(10, 6))\n",
    "axs = axs.flatten()\n",
    "\n",
    "# Plot each histogram\n",
    "for i, col in enumerate(rel_cols):\n",
    "    sns.histplot(data[col], ax=axs[i], color='skyblue', kde=True)\n",
    "    axs[i].set_title(f'Distribution of {col}')\n",
    "    axs[i].set_xlabel('')\n",
    "    axs[i].set_ylabel('')\n",
    "\n",
    "# Turn off unused subplots (if fewer than 6 columns)\n",
    "for j in range(len(rel_cols), len(axs)):\n",
    "    axs[j].axis('off')\n",
    "\n",
    "plt.tight_layout()\n",
    "plt.show()\n"
   ]
  },
  {
   "cell_type": "markdown",
   "id": "b1d7d298",
   "metadata": {},
   "source": [
    "## Notes\n",
    "- Price per Unit and Operating Margin both follow a distribution that is approximately normal, though not perfectly. They show a bell-shaped curve with slight deviations from symmetry.\n",
    "\n",
    "- Total Sales, Operating Profit, and Units Sold are all right-skewed, meaning the majority of values are clustered on the lower end, with a long tail extending to the right.\n",
    "\n",
    "- This indicates that while most transactions are relatively modest in value and volume, there are a few high-performing entries (possibly large orders or high-revenue items) that significantly raise the upper range of the data."
   ]
  }
 ],
 "metadata": {
  "kernelspec": {
   "display_name": ".venv",
   "language": "python",
   "name": "python3"
  },
  "language_info": {
   "codemirror_mode": {
    "name": "ipython",
    "version": 3
   },
   "file_extension": ".py",
   "mimetype": "text/x-python",
   "name": "python",
   "nbconvert_exporter": "python",
   "pygments_lexer": "ipython3",
   "version": "3.13.1"
  }
 },
 "nbformat": 4,
 "nbformat_minor": 5
}
